{
 "cells": [
  {
   "cell_type": "code",
   "execution_count": 1,
   "metadata": {},
   "outputs": [],
   "source": [
    "import numpy as np\n",
    "import matplotlib.pyplot as plt\n",
    "from PIL import Image\n",
    "from src.reconstruction_algs.DART import DART\n",
    "from src.measurements.projections import *"
   ]
  },
  {
   "cell_type": "code",
   "execution_count": 2,
   "metadata": {},
   "outputs": [],
   "source": [
    "# Instanciate DART\n",
    "dart = DART()"
   ]
  },
  {
   "cell_type": "code",
   "execution_count": 3,
   "metadata": {},
   "outputs": [
    {
     "name": "stdout",
     "output_type": "stream",
     "text": [
      "Original phantom\n"
     ]
    },
    {
     "data": {
      "image/png": "[encoded data removed]",
      "text/plain": [
       "<PIL.Image.Image image mode=L size=256x256 at 0x7F2BE1C86EB0>"
      ]
     },
     "execution_count": 3,
     "metadata": {},
     "output_type": "execute_result"
    }
   ],
   "source": [
    "# create a simple phantom\n",
    "img = np.full(fill_value=0,shape=(256,256))\n",
    "img[30:80, 130: 160] = 30 # top right, darkest\n",
    "img[60:110, 180:240] = 60  # top right, brighter of the two\n",
    "img[150:200, 150:200] = 90  # bottom right, gray\n",
    "img[170:230, 20:90] = 120  # bottom left one\n",
    "img[100:150, 100:160] = 150  # middle one\n",
    "img[50:100, 50:100] = 180  # top left\n",
    "img[220:245,150:200] = 255 # bottom right, brigh white\n",
    "img = img.astype(np.uint8)\n",
    "print(\"Original phantom\")\n",
    "Image.fromarray(img)"
   ]
  },
  {
   "cell_type": "markdown",
   "metadata": {},
   "source": [
    "<br/>\n",
    "<h4>Segmentation step</h4>"
   ]
  },
  {
   "cell_type": "code",
   "execution_count": 4,
   "metadata": {},
   "outputs": [
    {
     "name": "stdout",
     "output_type": "stream",
     "text": [
      "Unique intensities values in segmented image: [ 40 120 200]\n",
      "Segmented image:\n"
     ]
    },
    {
     "data": {
      "image/png": "[encoded data removed]",
      "text/plain": [
       "<PIL.Image.Image image mode=L size=256x256 at 0x7F2BB97F1220>"
      ]
     },
     "execution_count": 4,
     "metadata": {},
     "output_type": "execute_result"
    }
   ],
   "source": [
    "# defining gray levels\n",
    "gray_lvls = [40, 120, 200]\n",
    "# Segmentation step\n",
    "segmented_img = dart.segment(img, gray_lvls)\n",
    "print(f\"Unique intensities values in segmented image: {np.unique(segmented_img)}\")\n",
    "print(\"Segmented image:\")\n",
    "Image.fromarray(segmented_img)"
   ]
  },
  {
   "cell_type": "markdown",
   "metadata": {},
   "source": [
    "<br/>\n",
    "<h4>Boundary pixels</h4>"
   ]
  },
  {
   "cell_type": "code",
   "execution_count": 5,
   "metadata": {},
   "outputs": [
    {
     "data": {
      "image/png": "[encoded data removed]",
      "text/plain": [
       "<PIL.Image.Image image mode=L size=256x256 at 0x7F2BB97F1520>"
      ]
     },
     "execution_count": 5,
     "metadata": {},
     "output_type": "execute_result"
    }
   ],
   "source": [
    "boundary_pixels = dart.boundary_pixels(img)\n",
    "Image.fromarray(boundary_pixels*255)"
   ]
  },
  {
   "cell_type": "markdown",
   "metadata": {},
   "source": [
    "<br/>\n",
    "<h4>Non boundary free pixels</h4>"
   ]
  },
  {
   "cell_type": "code",
   "execution_count": 6,
   "metadata": {},
   "outputs": [
    {
     "name": "stdout",
     "output_type": "stream",
     "text": [
      "free pixels mask shape: (256, 256), total free pixels: 640\n"
     ]
    },
    {
     "data": {
      "image/png": "[encoded data removed]",
      "text/plain": [
       "<PIL.Image.Image image mode=L size=256x256 at 0x7F2BE275C5B0>"
      ]
     },
     "execution_count": 6,
     "metadata": {},
     "output_type": "execute_result"
    }
   ],
   "source": [
    "non_boundary_pixels = dart.non_boundary_free_pixels(boundary_pixels,0.99)\n",
    "print(f\"free pixels mask shape: {non_boundary_pixels.shape}, total free pixels: {non_boundary_pixels.sum()}\")\n",
    "Image.fromarray(non_boundary_pixels*255)"
   ]
  },
  {
   "cell_type": "markdown",
   "metadata": {},
   "source": [
    "<br/>\n",
    "<h4>Free pixels</h4>"
   ]
  },
  {
   "cell_type": "code",
   "execution_count": 7,
   "metadata": {},
   "outputs": [
    {
     "data": {
      "image/png": "[encoded data removed]",
      "text/plain": [
       "<PIL.Image.Image image mode=L size=256x256 at 0x7F2BB97F1EB0>"
      ]
     },
     "execution_count": 7,
     "metadata": {},
     "output_type": "execute_result"
    }
   ],
   "source": [
    "free_pixels = boundary_pixels + non_boundary_pixels\n",
    "Image.fromarray(free_pixels*255)"
   ]
  },
  {
   "cell_type": "code",
   "execution_count": 8,
   "metadata": {},
   "outputs": [],
   "source": [
    "def SART(projections, previous_recon, l, free_pixels=None):\n",
    "        curr_recon = np.full(shape=previous_recon.shape, fill_value=0.)\n",
    "        pass"
   ]
  },
  {
   "cell_type": "code",
   "execution_count": 11,
   "metadata": {},
   "outputs": [
    {
     "data": {
      "text/plain": [
       "(180, 256)"
      ]
     },
     "execution_count": 11,
     "metadata": {},
     "output_type": "execute_result"
    }
   ],
   "source": [
    "from src.measurements.projections import project_from_2D\n",
    "id, projs = project_from_2D(img,180,1.05)\n",
    "projs.shape"
   ]
  },
  {
   "cell_type": "code",
   "execution_count": null,
   "metadata": {},
   "outputs": [],
   "source": []
  },
  {
   "cell_type": "code",
   "execution_count": null,
   "metadata": {},
   "outputs": [],
   "source": [
    "def SIRT(projections, previous_recon, free_pixels):\n",
    "    out_recon = np.full(shape=previous_recon.shape, fill_value=0.)\n",
    "    "
   ]
  }
 ],
 "metadata": {
  "interpreter": {
   "hash": "43934174415e06c815b51e25523b3b6837fb01cc9d23977351fa4d63412ea153"
  },
  "kernelspec": {
   "display_name": "Python 3.9.12 ('image_processing')",
   "language": "python",
   "name": "python3"
  },
  "language_info": {
   "codemirror_mode": {
    "name": "ipython",
    "version": 3
   },
   "file_extension": ".py",
   "mimetype": "text/x-python",
   "name": "python",
   "nbconvert_exporter": "python",
   "pygments_lexer": "ipython3",
   "version": "3.9.12"
  },
  "orig_nbformat": 4
 },
 "nbformat": 4,
 "nbformat_minor": 2
}
