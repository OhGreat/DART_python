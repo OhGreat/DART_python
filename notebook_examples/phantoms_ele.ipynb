{
 "cells": [
  {
   "cell_type": "code",
   "execution_count": 1,
   "metadata": {},
   "outputs": [],
   "source": [
    "import astra \n",
    "import numpy as np\n",
    "import matplotlib.pyplot as plt\n",
    "from PIL import Image\n",
    "from os import makedirs\n",
    "from os.path import exists\n",
    "from src.phantom_creator import *"
   ]
  },
  {
   "cell_type": "code",
   "execution_count": 2,
   "metadata": {},
   "outputs": [
    {
     "data": {
      "text/plain": [
       "[array([[0., 0., 0., ..., 0., 0., 0.],\n",
       "        [0., 0., 0., ..., 0., 0., 0.],\n",
       "        [0., 0., 0., ..., 0., 0., 0.],\n",
       "        ...,\n",
       "        [0., 0., 0., ..., 0., 0., 0.],\n",
       "        [0., 0., 0., ..., 0., 0., 0.],\n",
       "        [0., 0., 0., ..., 0., 0., 0.]]),\n",
       " array([[0., 0., 0., ..., 0., 0., 0.],\n",
       "        [0., 0., 0., ..., 0., 0., 0.],\n",
       "        [0., 0., 0., ..., 0., 0., 0.],\n",
       "        ...,\n",
       "        [0., 0., 0., ..., 0., 0., 0.],\n",
       "        [0., 0., 0., ..., 0., 0., 0.],\n",
       "        [0., 0., 0., ..., 0., 0., 0.]]),\n",
       " array([[0., 0., 0., ..., 0., 0., 0.],\n",
       "        [0., 0., 0., ..., 0., 0., 0.],\n",
       "        [0., 0., 0., ..., 0., 0., 0.],\n",
       "        ...,\n",
       "        [0., 0., 0., ..., 0., 0., 0.],\n",
       "        [0., 0., 0., ..., 0., 0., 0.],\n",
       "        [0., 0., 0., ..., 0., 0., 0.]])]"
      ]
     },
     "execution_count": 2,
     "metadata": {},
     "output_type": "execute_result"
    }
   ],
   "source": [
    "create_clouds(img_size=512,n=3 ,img_name='phantoms/clouds/cloud', seed =0)"
   ]
  },
  {
   "cell_type": "code",
   "execution_count": 3,
   "metadata": {},
   "outputs": [],
   "source": [
    "def create_image(x,y):\n",
    "    if x== 256 and y == 256:\n",
    "        x = 80\n",
    "        y = 80\n",
    "    else:\n",
    "        x = 164\n",
    "        y = 164\n",
    "\n",
    "    image = np.ones([x,y])\n",
    "    # Resize Image\n",
    "    diag = len(np.diag(image)//2)\n",
    "    if x == 80 and y == 80:\n",
    "        plus = 8\n",
    "    else: \n",
    "        plus = 10\n",
    "    \n",
    "    image = np.pad(image, pad_width=diag+plus)\n",
    "    \n",
    "    _ = np.linspace(-1, 1, image.shape[0])\n",
    "    xv, yv = np.meshgrid(_,_)\n",
    "    return image, xv, yv"
   ]
  },
  {
   "cell_type": "code",
   "execution_count": 104,
   "metadata": {},
   "outputs": [],
   "source": [
    "def create_circles(x, y, n, overlap):\n",
    "    circles = []\n",
    "    np.random.seed(0)\n",
    "    for i in range(n):\n",
    "        \n",
    "        image, xv, yv = create_image(x,y)\n",
    "        mu, sigma = 0 , 0.1\n",
    "        noise =  np.abs(np.random.normal(mu, sigma, 2))\n",
    "        \n",
    "        image[xv**2 + yv**2 >0.6] = 0\n",
    "        image[xv**2 + yv**2 <0.49] = 50\n",
    "        if overlap == True:\n",
    "            image[(xv-0.1+noise[0])**2 + (yv-0.1+noise[0])**2 <0.3] = 160\n",
    "            image[(xv-0.1+noise[1])**2 + (yv-0.1+noise[1])**2 <0.19] = 40\n",
    "            image[(xv-0.1+noise[0])**2 + (yv-0.1+noise[0])**2 <0.11] = 80\n",
    "            image[(xv-0.2+noise[1])**2 + (yv-0.2+noise[1])**2 <0.02] = 40\n",
    "        else: \n",
    "            image[(xv-0.1+noise[0])**2 + (yv-0.1+noise[0])**2 <0.3] = 160\n",
    "            image[(xv-0.1+noise[0])**2 + (yv-0.1+noise[0])**2 <0.19] = 40\n",
    "            image[(xv-0.1+noise[0])**2 + (yv-0.1+noise[0])**2 <0.11] = 80\n",
    "            image[(xv-0.2+noise[0])**2 + (yv-0.2+noise[0])**2 <0.02] = 40\n",
    "            \n",
    "        circles.append(image)\n",
    "\n",
    "        \n",
    "    return circles"
   ]
  },
  {
   "cell_type": "code",
   "execution_count": 105,
   "metadata": {},
   "outputs": [],
   "source": [
    "circles = create_circles(512,512,10, overlap = True)"
   ]
  },
  {
   "cell_type": "code",
   "execution_count": 106,
   "metadata": {},
   "outputs": [],
   "source": [
    "for i in range(10):\n",
    "    img = Image.fromarray(circles[i].astype(np.uint8))\n",
    "    img.save(f\"phantoms/circles/circles{i}.png\")"
   ]
  },
  {
   "cell_type": "code",
   "execution_count": 19,
   "metadata": {},
   "outputs": [
    {
     "data": {
      "text/plain": [
       "<matplotlib.image.AxesImage at 0x1e2c1864ee0>"
      ]
     },
     "execution_count": 19,
     "metadata": {},
     "output_type": "execute_result"
    },
    {
     "data": {
      "image/png": "[encoded data removed]",
      "text/plain": [
       "<Figure size 432x288 with 1 Axes>"
      ]
     },
     "metadata": {
      "needs_background": "light"
     },
     "output_type": "display_data"
    }
   ],
   "source": [
    "image = np.ones([80,80])\n",
    "# Resize Image\n",
    "diag = len(np.diag(image)//2)\n",
    "image = np.pad(image, pad_width=diag+8)\n",
    "\n",
    "_ = np.linspace(-1, 1, image.shape[0])\n",
    "xv, yv = np.meshgrid(_,_)\n",
    "\n",
    "image[xv**2 + yv**2 >0.1] = 255\n",
    "image[xv**2 + yv**2 <0.09] = 110\n",
    "image[25:231,30:40] = 140\n",
    "image[25:231, 216:226] = 140\n",
    "image[25:35, 40:216] = 140\n",
    "image[221:231, 40:216] = 140\n",
    "\n",
    "image[180:210,50:80] = 150\n",
    "image[(xv-0.5)**2/0.2+(yv+0.3)**2<0.05] = 130\n",
    "image[(xv-0.006)**2/0.4+(yv+0.18)**2/0.7<0.01] = 144\n",
    "image[(xv+0.17)**2/0.4+(yv+0.1)**2/0.7<0.01] = 144\n",
    "image[(xv-0.17)**2/0.4+(yv+0.1)**2/0.7<0.01] = 144\n",
    "image[(xv-0.01)**2/0.7+(yv-0.1)**2/0.7<0.02] = 144\n",
    "# image[(xv-0.2)**2 - (yv-0.1)**2 <0.02] =24\n",
    "\n",
    "\n",
    "plt.imshow(image, cmap = 'Greys')\n"
   ]
  },
  {
   "cell_type": "code",
   "execution_count": 20,
   "metadata": {},
   "outputs": [
    {
     "data": {
      "text/plain": [
       "<matplotlib.image.AxesImage at 0x1e2c18e0130>"
      ]
     },
     "execution_count": 20,
     "metadata": {},
     "output_type": "execute_result"
    },
    {
     "data": {
      "image/png": "[encoded data removed]",
      "text/plain": [
       "<Figure size 432x288 with 1 Axes>"
      ]
     },
     "metadata": {
      "needs_background": "light"
     },
     "output_type": "display_data"
    }
   ],
   "source": [
    "image, xv, yv = create_image(80,80)\n",
    "\n",
    "\n",
    "image[xv**2 + yv**2 >0.7] = 255\n",
    "image[xv**2 + yv**2 <0.69] = 200\n",
    "image[xv**2 + yv**2 <0.6] = 98\n",
    "# image[xv**2 + yv**2 <0.5] = 190\n",
    "image[xv**2 + yv**2 <0.4] = 125\n",
    "\n",
    "image[(xv+0.2)**2+(yv+0.2)**2/0.1<0.01] = 200\n",
    "image[(xv-0.2)**2+(yv+0.2)**2/0.1<0.01] = 200\n",
    "image[(xv-0.01)**2/0.1+(yv-0.01)**2<0.01] = 60\n",
    "\n",
    "image[170:175,100:160] = 170\n",
    "\n",
    "plt.imshow(image, cmap = 'Greys')"
   ]
  },
  {
   "cell_type": "code",
   "execution_count": 121,
   "metadata": {},
   "outputs": [
    {
     "name": "stdout",
     "output_type": "stream",
     "text": [
      "[0.35281047]\n",
      "[0.08003144]\n",
      "[0.1957476]\n"
     ]
    },
    {
     "data": {
      "image/png": "[encoded data removed]",
      "text/plain": [
       "<Figure size 432x288 with 1 Axes>"
      ]
     },
     "metadata": {
      "needs_background": "light"
     },
     "output_type": "display_data"
    }
   ],
   "source": [
    "np.random.seed(0)\n",
    "img=[]\n",
    "for i in range(3):\n",
    "    image, xv, yv = create_image(80,80)\n",
    "\n",
    "    image[(xv-0.1)**2+(yv+0.01)**2/0.4>0.6] = 255\n",
    "    image[(xv-0.1)**2+(yv+0.5)**2/0.4<0.1] = 0\n",
    "    image[(xv-0.1)**2+(yv-0.5)**2/0.4<0.1] = 0\n",
    "    image[(xv+0.4)**2+(yv+0.5)**2/0.4<0.1] = 0\n",
    "    image[(xv-0.4)**2+(yv-0.5)**2/0.4<0.1] = 0\n",
    "    image[(xv-0.6)**2+(yv+0.3)**2/0.4<0.1] = 0\n",
    "    image[(xv+0.4)**2+(yv-0.3)**2/0.4<0.1] = 0\n",
    "    # image[(xv-0.1)**2+(yv-0.1)**2/0.4<0.02] = 255\n",
    "    # image[(xv+0.4)**2+(yv-0.2)**2/0.4<0.005] = 255\n",
    "    # image[(xv-0.1)**2+(yv+0.2)**2/0.4<0.01] = 255\n",
    "    # image[(xv-0.4)**2+(yv+0.2)**2/0.4<0.02] = 255\n",
    "    # image[(xv+0.3)**2+(yv+0.3)**2/0.4<0.01] = 255\n",
    "    # image[(xv-0.4)**2+(yv-0.5)**2/0.4<0.02] = 255\n",
    "    \n",
    "    n = np.random.normal(0,0.2,1)\n",
    "    print(n)\n",
    "\n",
    "    if 0.15<n[0]>0.3 :\n",
    "        image[(xv-0.1)**2+(yv-0.1)**2/0.4<0.02] = 255\n",
    "        image[(xv+0.4)**2+(yv-0.2)**2/0.4<0.005] = 255\n",
    "        image[(xv-0.1)**2+(yv+0.2)**2/0.4<0.01] = 255\n",
    "        image[(xv-0.4)**2+(yv+0.2)**2/0.4<0.02] = 255\n",
    "        image[(xv+0.3)**2+(yv+0.3)**2/0.4<0.01] = 255\n",
    "        image[(xv-0.4)**2+(yv-0.5)**2/0.4<0.02] = 255\n",
    "    elif n[0]<0.09:\n",
    "        image[(xv+0.4)**2+(yv-0.2)**2/0.4<0.005] = 255\n",
    "        image[(xv-0.4)**2+(yv+0.2)**2/0.4<0.02] = 255\n",
    "        image[(xv-0.4)**2+(yv-0.5)**2/0.4<0.02] = 255\n",
    "        image[(xv+0.3)**2+(yv+0.3)**2/0.4<0.01] = 255\n",
    "    else: \n",
    "        image[(xv+0.3)**2+(yv+0.3)**2/0.4<0.01] = 255\n",
    "        image[(xv-0.4)**2+(yv-0.5)**2/0.4<0.02] = 255\n",
    "        image[(xv-0.1)**2+(yv-0.1)**2/0.4<0.02] = 255\n",
    "\n",
    "\n",
    "\n",
    "    img.append(image)\n",
    "\n",
    "    plt.imshow(image, cmap = 'Greys')\n"
   ]
  },
  {
   "cell_type": "code",
   "execution_count": 123,
   "metadata": {},
   "outputs": [
    {
     "data": {
      "text/plain": [
       "<matplotlib.image.AxesImage at 0x1d91edcaa00>"
      ]
     },
     "execution_count": 123,
     "metadata": {},
     "output_type": "execute_result"
    },
    {
     "data": {
      "image/png": "[encoded data removed]",
      "text/plain": [
       "<Figure size 432x288 with 1 Axes>"
      ]
     },
     "metadata": {
      "needs_background": "light"
     },
     "output_type": "display_data"
    }
   ],
   "source": [
    "plt.imshow(img[1], cmap = 'Greys')"
   ]
  },
  {
   "cell_type": "code",
   "execution_count": 4,
   "metadata": {},
   "outputs": [
    {
     "data": {
      "text/plain": [
       "[array([[255., 255., 255., ..., 255., 255., 255.],\n",
       "        [255., 255., 255., ..., 255., 255., 255.],\n",
       "        [255., 255., 255., ..., 255., 255., 255.],\n",
       "        ...,\n",
       "        [255., 255., 255., ..., 255., 255., 255.],\n",
       "        [255., 255., 255., ..., 255., 255., 255.],\n",
       "        [255., 255., 255., ..., 255., 255., 255.]]),\n",
       " array([[255., 255., 255., ..., 255., 255., 255.],\n",
       "        [255., 255., 255., ..., 255., 255., 255.],\n",
       "        [255., 255., 255., ..., 255., 255., 255.],\n",
       "        ...,\n",
       "        [255., 255., 255., ..., 255., 255., 255.],\n",
       "        [255., 255., 255., ..., 255., 255., 255.],\n",
       "        [255., 255., 255., ..., 255., 255., 255.]]),\n",
       " array([[255., 255., 255., ..., 255., 255., 255.],\n",
       "        [255., 255., 255., ..., 255., 255., 255.],\n",
       "        [255., 255., 255., ..., 255., 255., 255.],\n",
       "        ...,\n",
       "        [255., 255., 255., ..., 255., 255., 255.],\n",
       "        [255., 255., 255., ..., 255., 255., 255.],\n",
       "        [255., 255., 255., ..., 255., 255., 255.]])]"
      ]
     },
     "execution_count": 4,
     "metadata": {},
     "output_type": "execute_result"
    }
   ],
   "source": [
    "create_clouds(img_size=512,n=3 ,img_name='phantoms/clouds/cloud', seed =0)"
   ]
  },
  {
   "cell_type": "code",
   "execution_count": 78,
   "metadata": {},
   "outputs": [],
   "source": [
    "def create_alien(x, y, n, overlap):\n",
    "    aliens = []\n",
    "    np.random.seed(1)\n",
    "\n",
    "    for i in range(n):\n",
    "        \n",
    "        image, xv, yv = create_image(x,y)\n",
    "        mu, sigma = 0 , 0.05\n",
    "        noise =  np.abs(np.random.normal(mu, sigma, 2))\n",
    "        image[(xv-0.01)**2/0.5+(yv+0.01)**2>0.5] = 0\n",
    "        image[(xv-0.01)**2/0.5+(yv+0.01)**2<0.48] = 100\n",
    "\n",
    "        if overlap == True:\n",
    "            image[(xv+0.3-noise[0])**2/0.2+(yv+0.01-noise[0])**2<0.05] = 100\n",
    "            image[(xv+0.3-noise[1])**2/0.2+(yv+0.1-noise[1])**2<0.01] = 50\n",
    "            image[(xv-0.3+noise[0])**2/0.2+(yv+0.01+noise[0])**2<0.05] = 100\n",
    "            image[(xv-0.3+noise[1])**2/0.2+(yv+0.1+noise[1])**2<0.01] = 50\n",
    "            image[(xv-0.01-noise[0])**2+(yv-0.6+noise[0])**2/0.025<0.02] = 50\n",
    "            \n",
    "        else: \n",
    "            image[(xv+0.3-noise[0])**2/0.2+(yv+0.01-noise[0])**2<0.05] = 80\n",
    "            image[(xv+0.3-noise[0])**2/0.2+(yv+0.1-noise[0])**2<0.01] = 40\n",
    "            image[(xv-0.3+noise[0])**2/0.2+(yv+0.01-noise[0])**2<0.05] = 80\n",
    "            image[(xv-0.3+noise[0])**2/0.2+(yv+0.1-noise[0])**2<0.01] = 40\n",
    "            image[(xv-0.01-noise[0])**2+(yv-0.6+noise[0])**2/0.025<0.02] = 40\n",
    "           \n",
    "            \n",
    "        aliens.append(image)\n",
    "        \n",
    "    return aliens\n",
    "\n",
    "\n",
    "\n"
   ]
  },
  {
   "cell_type": "code",
   "execution_count": 79,
   "metadata": {},
   "outputs": [],
   "source": [
    "aliens = create_alien(164,164,3, overlap = False)\n",
    "for i in range(3):\n",
    "    img = Image.fromarray(aliens[i].astype(np.uint8))\n",
    "    img.save(f\"phantoms/aliens/alien{i}.png\")"
   ]
  },
  {
   "cell_type": "code",
   "execution_count": 10,
   "metadata": {},
   "outputs": [
    {
     "data": {
      "text/plain": [
       "(-0.5, 511.5, 511.5, -0.5)"
      ]
     },
     "execution_count": 10,
     "metadata": {},
     "output_type": "execute_result"
    },
    {
     "data": {
      "image/png": "[encoded data removed]",
      "text/plain": [
       "<Figure size 1296x360 with 10 Axes>"
      ]
     },
     "metadata": {
      "needs_background": "light"
     },
     "output_type": "display_data"
    }
   ],
   "source": [
    "\n",
    "\n",
    "fig, ax = plt.subplots(2,5,figsize=(18,5))\n",
    "ax[0][0].imshow(aliens[0], cmap='Greys')\n",
    "ax[0][0].axis('off')\n",
    "ax[0][1].imshow(aliens[1], cmap='Greys')\n",
    "ax[0][1].axis('off')\n",
    "ax[0][2].imshow(aliens[2], cmap='Greys')\n",
    "ax[0][2].axis('off')\n",
    "ax[0][3].imshow(aliens[3], cmap='Greys')\n",
    "ax[0][3].axis('off')\n",
    "ax[0][4].imshow(aliens[4], cmap='Greys')\n",
    "ax[0][4].axis('off')\n",
    "ax[1][0].imshow(aliens[5], cmap='Greys')\n",
    "ax[1][0].axis('off')\n",
    "ax[1][1].imshow(aliens[6], cmap='Greys')\n",
    "ax[1][1].axis('off')\n",
    "ax[1][2].imshow(aliens[7], cmap='Greys')\n",
    "ax[1][2].axis('off')\n",
    "ax[1][3].imshow(aliens[8], cmap='Greys')\n",
    "ax[1][3].axis('off')\n",
    "ax[1][4].imshow(aliens[9], cmap='Greys')\n",
    "ax[1][4].axis('off')\n"
   ]
  },
  {
   "cell_type": "code",
   "execution_count": null,
   "metadata": {},
   "outputs": [],
   "source": []
  },
  {
   "cell_type": "code",
   "execution_count": 35,
   "metadata": {},
   "outputs": [],
   "source": [
    "def create_paws(x, y, n):\n",
    "    paws = []\n",
    "    np.random.seed(1)\n",
    "\n",
    "    dimension = x\n",
    "\n",
    "    for i in range(n):\n",
    "\n",
    "        image, xv, yv = create_image(x,y)\n",
    "        thresh = np.random.choice(range(11),3)\n",
    "        shift_x = np.random.choice(range(50))\n",
    "        shift_y = np.random.choice(range(3))\n",
    "\n",
    "        mu, sigma = 0 , 0.1\n",
    "        noise =  np.abs(np.random.normal(mu, sigma, 2))\n",
    "\n",
    "        image[xv**2 + yv**2 >0.1] = 0\n",
    "        image[xv**2 + yv**2 <0.09] = 110\n",
    "\n",
    "        if dimension==256:\n",
    "            image[25:231,30:40] = 120\n",
    "            image[25:231, 216:226] = 120\n",
    "            image[25:35, 40:216] = 120\n",
    "            image[221:231, 40:216] = 120\n",
    "            image[180:210+shift_y,50:80+shift_x] = 120\n",
    "        else: \n",
    "            image[50:462,60:80] = 120\n",
    "            image[50:462, 432:452] = 120\n",
    "            image[50:70, 80:432] = 120\n",
    "            image[442:462, 80:432] = 120\n",
    "            image[360:420+shift_y,100:160+shift_x] = 120\n",
    "\n",
    "        image[(xv-0.5)**2/0.2+(yv+0.3-noise[0])**2<0.05] = 110\n",
    "        \n",
    "\n",
    "        if thresh[0] > 5: \n",
    "            image[(xv-0.006)**2/0.4+(yv+0.18)**2/0.7<0.01] = 50\n",
    "        if thresh[1] <4: \n",
    "            image[(xv+0.17)**2/0.4+(yv+0.1)**2/0.7<0.01] = 50\n",
    "         \n",
    "        image[(xv-0.17)**2/0.4+(yv+0.1)**2/0.7<0.01] = 50\n",
    "        image[(xv-0.01)**2/0.7+(yv-0.1)**2/0.7<0.02] = 50\n",
    "        \n",
    "        paws.append(image)\n",
    "\n",
    "    return paws"
   ]
  },
  {
   "cell_type": "code",
   "execution_count": 36,
   "metadata": {},
   "outputs": [],
   "source": [
    "paws = create_paws(512,512,3)\n",
    "for i in range(3):\n",
    "    img = Image.fromarray(paws[i].astype(np.uint8))\n",
    "    img.save(f\"phantoms/paws/paws{i}.png\")"
   ]
  },
  {
   "cell_type": "code",
   "execution_count": 56,
   "metadata": {},
   "outputs": [],
   "source": [
    "thresh = np.random.choice(range(11),3)"
   ]
  },
  {
   "cell_type": "code",
   "execution_count": 20,
   "metadata": {},
   "outputs": [
    {
     "data": {
      "text/plain": [
       "array([7, 3, 2])"
      ]
     },
     "execution_count": 20,
     "metadata": {},
     "output_type": "execute_result"
    }
   ],
   "source": [
    "thresh"
   ]
  },
  {
   "cell_type": "code",
   "execution_count": 36,
   "metadata": {},
   "outputs": [],
   "source": [
    "def create_paws(img_size=512, gray_values=[50,110,120], n=1,\n",
    "                                 seed=None, img_name=None):\n",
    "    \"\"\" Create paw like phantoms.\n",
    "\n",
    "        Input:\n",
    "            - img_size: defines the size of the image,\n",
    "                should be 256 or 512.\n",
    "            - gray_values: list with three values representing the \n",
    "                gray values to use for the images.\n",
    "            - n: defines number of images to generate.\n",
    "            - overlap: defines wether to make circles overlap or not\n",
    "            - seed: defines the seed in order to have reproducable phantoms\n",
    "            - img_name: string defining the path and filename to use.\n",
    "                The filename should not have the extension, \n",
    "                it will be created as a png by default.\n",
    "                Example of definition of img_name:\n",
    "                    img_name = \"dir/to/save/filename\"\n",
    "\n",
    "        Output:\n",
    "            returns a list of phantoms. (Phantoms as numpy arrays)\n",
    "    \"\"\"\n",
    "    if img_size == 512:\n",
    "        x, y = 164, 164\n",
    "    elif img_size == 256:\n",
    "        x, y = 80, 80\n",
    "    else:\n",
    "        exit(\"img_size can only be set to 512 or 256\")\n",
    "\n",
    "    if seed != None:\n",
    "        np.random.seed(seed)\n",
    "\n",
    "    # define save paths\n",
    "    if img_name != None:\n",
    "        if not exists('data/'):\n",
    "            makedirs('data/')\n",
    "    \n",
    "    paws = []\n",
    "    for i in range(n):\n",
    "\n",
    "        image, xv, yv = create_image(x,y)\n",
    "\n",
    "        thresh = np.random.choice(range(20),3)\n",
    "        shift_x = np.random.choice(range(20,100))\n",
    "        shift_y = np.random.choice(range(3))\n",
    "\n",
    "        mu, sigma = 0 , 0.5\n",
    "        noise =  np.abs(np.random.normal(mu, sigma, 2))\n",
    "\n",
    "        image[xv**2 + yv**2 >0.1] = 0\n",
    "        image[xv**2 + yv**2 <0.09] = 110\n",
    "\n",
    "        if img_size==256:\n",
    "            image[25:231,30:40] = 120\n",
    "            image[25:231, 216:226] = 120\n",
    "            image[25:35, 40:216] = 120\n",
    "            image[221:231, 40:216] = 120\n",
    "            image[180:210+shift_y,50:80+shift_x] = 120\n",
    "        else: \n",
    "            image[50:462,60:80] = 120\n",
    "            image[50:462, 432:452] = 120\n",
    "            image[50:70, 80:432] = 120\n",
    "            image[442:462, 80:432] = 120\n",
    "            image[360:420+shift_y,100:160+shift_x] = 120\n",
    "\n",
    "        image[(xv-0.5)**2/0.2+(yv+0.3-noise[0])**2<0.05] = 110\n",
    "\n",
    "        if thresh[0] < 7: \n",
    "            image[(xv-0.006)**2/0.4+(yv+0.18)**2/0.7<0.01] = gray_values[0]\n",
    "        if thresh[1] >5: \n",
    "            image[(xv+0.17)**2/0.4+(yv+0.1)**2/0.7<0.01] = gray_values[0]\n",
    "         \n",
    "        image[(xv-0.17)**2/0.4+(yv+0.1)**2/0.7<0.01] = gray_values[0]\n",
    "        image[(xv-0.01)**2/0.7+(yv-0.1)**2/0.7<0.02] = gray_values[0]\n",
    "        \n",
    "        paws.append(image)\n",
    "  \n",
    "\n",
    "        if img_name != None:\n",
    "            Image.fromarray(image.astype(np.uint8)).save(f\"{img_name}_{i}.png\")\n",
    "        \n",
    "    return paws"
   ]
  },
  {
   "cell_type": "code",
   "execution_count": 2,
   "metadata": {},
   "outputs": [
    {
     "data": {
      "text/plain": [
       "[array([[0., 0., 0., ..., 0., 0., 0.],\n",
       "        [0., 0., 0., ..., 0., 0., 0.],\n",
       "        [0., 0., 0., ..., 0., 0., 0.],\n",
       "        ...,\n",
       "        [0., 0., 0., ..., 0., 0., 0.],\n",
       "        [0., 0., 0., ..., 0., 0., 0.],\n",
       "        [0., 0., 0., ..., 0., 0., 0.]]),\n",
       " array([[0., 0., 0., ..., 0., 0., 0.],\n",
       "        [0., 0., 0., ..., 0., 0., 0.],\n",
       "        [0., 0., 0., ..., 0., 0., 0.],\n",
       "        ...,\n",
       "        [0., 0., 0., ..., 0., 0., 0.],\n",
       "        [0., 0., 0., ..., 0., 0., 0.],\n",
       "        [0., 0., 0., ..., 0., 0., 0.]]),\n",
       " array([[0., 0., 0., ..., 0., 0., 0.],\n",
       "        [0., 0., 0., ..., 0., 0., 0.],\n",
       "        [0., 0., 0., ..., 0., 0., 0.],\n",
       "        ...,\n",
       "        [0., 0., 0., ..., 0., 0., 0.],\n",
       "        [0., 0., 0., ..., 0., 0., 0.],\n",
       "        [0., 0., 0., ..., 0., 0., 0.]])]"
      ]
     },
     "execution_count": 2,
     "metadata": {},
     "output_type": "execute_result"
    }
   ],
   "source": []
  },
  {
   "cell_type": "code",
   "execution_count": null,
   "metadata": {},
   "outputs": [],
   "source": []
  },
  {
   "cell_type": "code",
   "execution_count": 84,
   "metadata": {},
   "outputs": [
    {
     "data": {
      "text/plain": [
       "<matplotlib.image.AxesImage at 0x1d9171a7ee0>"
      ]
     },
     "execution_count": 84,
     "metadata": {},
     "output_type": "execute_result"
    },
    {
     "data": {
      "image/png": "[encoded data removed]",
      "text/plain": [
       "<Figure size 432x288 with 1 Axes>"
      ]
     },
     "metadata": {
      "needs_background": "light"
     },
     "output_type": "display_data"
    }
   ],
   "source": [
    "image, xv, yv = create_image(80,80)\n",
    "\n",
    "np.random.seed(0)\n",
    "\n",
    "x = np.random.normal(0.4,0.1, 6)\n",
    "\n",
    "image[(xv-0.1)**2+(yv+0.01)**2/0.4>0.6] = 255\n",
    "image[(xv-0.1)**2+(yv+0.5)**2/0.4<0.1] = 0\n",
    "image[(xv-0.1)**2+(yv-0.5)**2/0.4<0.1] = 0\n",
    "image[(xv+0.4)**2+(yv+0.5)**2/0.4<0.1] = 0\n",
    "image[(xv-0.4)**2+(yv-0.5)**2/0.4<0.1] = 0\n",
    "image[(xv-0.6)**2+(yv+0.3)**2/0.4<0.1] = 0\n",
    "image[(xv+0.4)**2+(yv-0.3)**2/0.4<0.1] = 0\n",
    "image[(xv-x[0])**2+(yv-0.1)**2/0.4<0.02] = 255\n",
    "image[(xv+x[1])**2+(yv-0.2)**2/0.4<0.005] = 255\n",
    "image[(xv-x[2])**2+(yv+0.2)**2/0.4<0.01] = 255\n",
    "image[(xv-x[3])**2+(yv+0.2)**2/0.4<0.02] = 255\n",
    "image[(xv+x[4])**2+(yv+0.3)**2/0.4<0.01] = 255\n",
    "image[(xv-x[5])**2+(yv-0.5)**2/0.4<0.02] = 255\n",
    "\n",
    "\n",
    "plt.imshow(image, cmap = 'Greys')"
   ]
  },
  {
   "cell_type": "code",
   "execution_count": 83,
   "metadata": {},
   "outputs": [
    {
     "data": {
      "text/plain": [
       "array([0.57640523, 0.44001572, 0.4978738 , 0.62408932, 0.5867558 ,\n",
       "       0.30227221])"
      ]
     },
     "execution_count": 83,
     "metadata": {},
     "output_type": "execute_result"
    }
   ],
   "source": [
    "x"
   ]
  },
  {
   "cell_type": "code",
   "execution_count": 3,
   "metadata": {},
   "outputs": [
    {
     "data": {
      "text/plain": [
       "array([0.35281047, 0.08003144, 0.1957476 ])"
      ]
     },
     "execution_count": 3,
     "metadata": {},
     "output_type": "execute_result"
    }
   ],
   "source": [
    "np.random.seed(0)\n",
    "np.random.normal(0,0.2,3)"
   ]
  },
  {
   "cell_type": "code",
   "execution_count": null,
   "metadata": {},
   "outputs": [],
   "source": []
  }
 ],
 "metadata": {
  "interpreter": {
   "hash": "b134e35f1c6e29159023eba8bbf308b62c168a50f851ee85430275284d62dbae"
  },
  "kernelspec": {
   "display_name": "Python 3.8.11 ('Machine_Learning')",
   "language": "python",
   "name": "python3"
  },
  "language_info": {
   "codemirror_mode": {
    "name": "ipython",
    "version": 3
   },
   "file_extension": ".py",
   "mimetype": "text/x-python",
   "name": "python",
   "nbconvert_exporter": "python",
   "pygments_lexer": "ipython3",
   "version": "3.8.11"
  },
  "orig_nbformat": 4
 },
 "nbformat": 4,
 "nbformat_minor": 2
}
