{
 "cells": [
  {
   "cell_type": "markdown",
   "metadata": {},
   "source": [
    "<h3>Creating phantom and projections with astra</h3>"
   ]
  },
  {
   "cell_type": "code",
   "execution_count": 1,
   "metadata": {},
   "outputs": [],
   "source": [
    "from __future__ import division\n",
    "import numpy as np\n",
    "from os import mkdir\n",
    "from os.path import join, isdir\n",
    "from imageio import get_writer\n",
    "from PIL import Image\n",
    "import matplotlib.pyplot as plt\n",
    "\n",
    "import astra\n",
    "\n",
    "# Configuration.\n",
    "distance_source_origin = 300  # [mm]\n",
    "distance_origin_detector = 100  # [mm]\n",
    "detector_pixel_size = 1.05  # [mm]\n",
    "detector_rows = 200  # Vertical size of detector [pixels].\n",
    "detector_cols = 200  # Horizontal size of detector [pixels].\n",
    "num_of_projections = 180\n",
    "angles = np.linspace(0, 2 * np.pi, num=num_of_projections, endpoint=False)\n",
    "output_dir = 'dataset/test/'\n",
    "\n",
    "# Create phantom.\n",
    "vol_geom = astra.creators.create_vol_geom(detector_cols, detector_cols,\n",
    "                                          detector_rows)\n",
    "phantom = np.zeros((detector_rows, detector_cols, detector_cols))\n",
    "hb = 110  # Height of beam [pixels].\n",
    "wb = 40   # Width of beam [pixels].\n",
    "hc = 100  # Height of cavity in beam [pixels].\n",
    "wc = 30   # Width of cavity in beam [pixels].\n",
    "phantom[detector_rows // 2 - hb // 2 : detector_rows // 2 + hb // 2,\n",
    "        detector_cols // 2 - wb // 2 : detector_cols // 2 + wb // 2,\n",
    "        detector_cols // 2 - wb // 2 : detector_cols // 2 + wb // 2] = 1\n",
    "phantom[detector_rows // 2 - hc // 2 : detector_rows // 2 + hc // 2,\n",
    "        detector_cols // 2 - wc // 2 : detector_cols // 2 + wc // 2,\n",
    "        detector_cols // 2 - wc // 2 : detector_cols // 2 + wc // 2] = 0\n",
    "phantom[detector_rows // 2 - 5 :       detector_rows // 2 + 5,\n",
    "        detector_cols // 2 + wc // 2 : detector_cols // 2 + wb // 2,\n",
    "        detector_cols // 2 - 5 :       detector_cols // 2 + 5] = 0\n",
    "phantom_id = astra.data3d.create('-vol', vol_geom, data=phantom)\n",
    "\n",
    "# Create projections. With increasing angles, the projection are such that the\n",
    "# object is rotated clockwise. Slice zero is at the top of the object. The\n",
    "# projection from angle zero looks upwards from the bottom of the slice.\n",
    "proj_geom = \\\n",
    "  astra.create_proj_geom('cone', 1, 1, detector_rows, detector_cols, angles,\n",
    "                         (distance_source_origin + distance_origin_detector) /\n",
    "                         detector_pixel_size, 0)\n",
    "projections_id, projections = \\\n",
    "  astra.creators.create_sino3d_gpu(phantom_id, proj_geom, vol_geom)\n",
    "projections /= np.max(projections)\n",
    "\n",
    "# Apply Poisson noise.\n",
    "#projections = np.random.poisson(projections * 10000) / 10000\n",
    "#projections[projections > 1.1] = 1.1\n",
    "#projections /= 1.1\n",
    "\n",
    "# Save projections.\n",
    "if not isdir(output_dir):\n",
    "    mkdir(output_dir)\n",
    "projections = np.round(projections * 65535).astype(np.uint16)\n",
    "for i in range(num_of_projections):\n",
    "    projection = projections[:, i, :]\n",
    "    with get_writer(join(output_dir, 'proj%04d.png' %i)) as writer:\n",
    "        writer.append_data(projection, {'compress': 9})"
   ]
  },
  {
   "cell_type": "code",
   "execution_count": 3,
   "metadata": {},
   "outputs": [
    {
     "data": {
      "text/plain": [
       "<matplotlib.image.AxesImage at 0x7f38d1994af0>"
      ]
     },
     "execution_count": 3,
     "metadata": {},
     "output_type": "execute_result"
    },
    {
     "data": {
      "image/png": "[encoded data removed]",
      "text/plain": [
       "<Figure size 432x288 with 1 Axes>"
      ]
     },
     "metadata": {
      "needs_background": "light"
     },
     "output_type": "display_data"
    }
   ],
   "source": [
    "img_arr = ((projections[:,1,:] / 65535)*255).astype(np.uint8)\n",
    "plt.imshow(img_arr, cmap='gray')\n"
   ]
  },
  {
   "cell_type": "code",
   "execution_count": 4,
   "metadata": {},
   "outputs": [
    {
     "data": {
      "text/plain": [
       "0"
      ]
     },
     "execution_count": 4,
     "metadata": {},
     "output_type": "execute_result"
    }
   ],
   "source": [
    "# Cleanup.\n",
    "astra.data3d.delete(projections_id)\n",
    "astra.data3d.delete(phantom_id)"
   ]
  },
  {
   "cell_type": "markdown",
   "metadata": {},
   "source": [
    "<h3>Reconstruction from Projection Images</h3>"
   ]
  },
  {
   "cell_type": "code",
   "execution_count": 7,
   "metadata": {},
   "outputs": [],
   "source": [
    "from __future__ import division\n",
    "import numpy as np\n",
    "from os import mkdir\n",
    "from os.path import join, isdir\n",
    "from imageio import imread, imwrite\n",
    "import astra\n",
    "\n",
    "# Configuration.\n",
    "distance_source_origin = 300  # [mm]\n",
    "distance_origin_detector = 100  # [mm]\n",
    "detector_pixel_size = 1.05  # [mm]\n",
    "detector_rows = 200  # Vertical size of detector [pixels].\n",
    "detector_cols = 200  # Horizontal size of detector [pixels].\n",
    "num_of_projections = 180\n",
    "angles = np.linspace(0, 2 * np.pi, num=num_of_projections, endpoint=False)\n",
    "input_dir = 'dataset/test'\n",
    "output_dir = 'reconstruction/test'\n",
    "\n",
    "# Load projections.\n",
    "projections = np.zeros((detector_rows, num_of_projections, detector_cols))\n",
    "for i in range(num_of_projections):\n",
    "    im = imread(join(input_dir, 'proj%04d.tif' % i)).astype(float)\n",
    "    im /= 65535\n",
    "    projections[:, i, :] = im\n",
    "\n",
    "# Copy projection images into ASTRA Toolbox.\n",
    "proj_geom = \\\n",
    "    astra.create_proj_geom( 'cone', 1, 1, detector_rows, detector_cols, angles,\n",
    "                            (distance_source_origin + distance_origin_detector) /\n",
    "                            detector_pixel_size, 0)\n",
    "projections_id = astra.data3d.create('-sino', proj_geom, projections)\n",
    "\n",
    "# Create reconstruction.\n",
    "vol_geom = astra.creators.create_vol_geom(detector_cols, detector_cols,\n",
    "                                          detector_rows)\n",
    "reconstruction_id = astra.data3d.create('-vol', vol_geom, data=0)\n",
    "alg_cfg = astra.astra_dict('FDK_CUDA')\n",
    "alg_cfg['ProjectionDataId'] = projections_id\n",
    "alg_cfg['ReconstructionDataId'] = reconstruction_id\n",
    "algorithm_id = astra.algorithm.create(alg_cfg)\n",
    "astra.algorithm.run(algorithm_id)\n",
    "reconstruction = astra.data3d.get(reconstruction_id)\n",
    "\n",
    "# Limit and scale reconstruction.\n",
    "reconstruction[reconstruction < 0] = 0\n",
    "reconstruction /= np.max(reconstruction)\n",
    "reconstruction = np.round(reconstruction * 255).astype(np.uint8)\n",
    "\n",
    "# Save reconstruction.\n",
    "if not isdir(output_dir):\n",
    "    mkdir(output_dir)\n",
    "for i in range(detector_rows):\n",
    "    im = reconstruction[i, :, :]\n",
    "    im = np.flipud(im)\n",
    "    imwrite(join(output_dir, 'reco%04d.png' % i), im)\n"
   ]
  },
  {
   "cell_type": "code",
   "execution_count": 6,
   "metadata": {},
   "outputs": [],
   "source": [
    "# Cleanup\n",
    "astra.algorithm.delete(algorithm_id)\n",
    "astra.data3d.delete(reconstruction_id)\n",
    "astra.data3d.delete(projections_id)"
   ]
  },
  {
   "cell_type": "code",
   "execution_count": 9,
   "metadata": {},
   "outputs": [
    {
     "data": {
      "text/plain": [
       "dict_items([('option', {'WindowMinX': -100.0, 'WindowMaxX': 100.0, 'WindowMinY': -100.0, 'WindowMaxY': 100.0, 'WindowMinZ': -100.0, 'WindowMaxZ': 100.0}), ('GridRowCount', 200), ('GridColCount', 200), ('GridSliceCount', 200)])"
      ]
     },
     "execution_count": 9,
     "metadata": {},
     "output_type": "execute_result"
    }
   ],
   "source": [
    "vol_geom.items()"
   ]
  },
  {
   "cell_type": "code",
   "execution_count": null,
   "metadata": {},
   "outputs": [],
   "source": []
  }
 ],
 "metadata": {
  "interpreter": {
   "hash": "8b7515f106fad933f1d4e00426784d523b34b2ca5f1101fd52021c5ab1e6e319"
  },
  "kernelspec": {
   "display_name": "Python 3.9.12 ('tomography')",
   "language": "python",
   "name": "python3"
  },
  "language_info": {
   "codemirror_mode": {
    "name": "ipython",
    "version": 3
   },
   "file_extension": ".py",
   "mimetype": "text/x-python",
   "name": "python",
   "nbconvert_exporter": "python",
   "pygments_lexer": "ipython3",
   "version": "3.9.12"
  },
  "orig_nbformat": 4
 },
 "nbformat": 4,
 "nbformat_minor": 2
}
