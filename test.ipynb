{
 "cells": [
  {
   "cell_type": "code",
   "execution_count": 7,
   "metadata": {},
   "outputs": [],
   "source": [
    "import astra\n",
    "import numpy as np\n",
    "from PIL import Image"
   ]
  },
  {
   "cell_type": "code",
   "execution_count": 8,
   "metadata": {},
   "outputs": [],
   "source": [
    "distance_source_origin = 300  # [mm]\n",
    "distance_origin_detector = 100  # [mm]\n",
    "detector_pixel_size = 1.05  # [mm]\n",
    "detector_rows = 200  # Vertical size of detector [pixels].\n",
    "detector_cols = 200  # Horizontal size of detector [pixels].\n",
    "num_of_projections = 180\n",
    "angles = np.linspace(0, 2 * np.pi, num=num_of_projections, endpoint=False)"
   ]
  },
  {
   "cell_type": "code",
   "execution_count": 9,
   "metadata": {},
   "outputs": [],
   "source": [
    "# test phantom\n",
    "vol_geom = astra.creators.create_vol_geom(detector_cols, detector_cols,\n",
    "                                          detector_rows)\n",
    "phantom = np.zeros((detector_rows, detector_cols, detector_cols))\n",
    "hb = 110  # Height of beam [pixels].\n",
    "wb = 40   # Width of beam [pixels].\n",
    "hc = 100  # Height of cavity in beam [pixels].\n",
    "wc = 30   # Width of cavity in beam [pixels].\n",
    "phantom[detector_rows // 2 - hb // 2 : detector_rows // 2 + hb // 2,\n",
    "        detector_cols // 2 - wb // 2 : detector_cols // 2 + wb // 2,\n",
    "        detector_cols // 2 - wb // 2 : detector_cols // 2 + wb // 2] = 1\n",
    "phantom[detector_rows // 2 - hc // 2 : detector_rows // 2 + hc // 2,\n",
    "        detector_cols // 2 - wc // 2 : detector_cols // 2 + wc // 2,\n",
    "        detector_cols // 2 - wc // 2 : detector_cols // 2 + wc // 2] = 0\n",
    "phantom[detector_rows // 2 - 5 :       detector_rows // 2 + 5,\n",
    "        detector_cols // 2 + wc // 2 : detector_cols // 2 + wb // 2,\n",
    "        detector_cols // 2 - 5 :       detector_cols // 2 + 5] = 0\n",
    "phantom_id = astra.data3d.create('-vol', vol_geom, data=phantom)"
   ]
  },
  {
   "cell_type": "code",
   "execution_count": 10,
   "metadata": {},
   "outputs": [
    {
     "ename": "TypeError",
     "evalue": "Cannot handle this data type: (1, 1, 200), <f8",
     "output_type": "error",
     "traceback": [
      "\u001b[0;31m---------------------------------------------------------------------------\u001b[0m",
      "\u001b[0;31mKeyError\u001b[0m                                  Traceback (most recent call last)",
      "File \u001b[0;32m~/miniconda3/envs/tomography/lib/python3.9/site-packages/PIL/Image.py:2928\u001b[0m, in \u001b[0;36mfromarray\u001b[0;34m(obj, mode)\u001b[0m\n\u001b[1;32m   <a href='file:///home/dimi/miniconda3/envs/tomography/lib/python3.9/site-packages/PIL/Image.py?line=2926'>2927</a>\u001b[0m \u001b[39mtry\u001b[39;00m:\n\u001b[0;32m-> <a href='file:///home/dimi/miniconda3/envs/tomography/lib/python3.9/site-packages/PIL/Image.py?line=2927'>2928</a>\u001b[0m     mode, rawmode \u001b[39m=\u001b[39m _fromarray_typemap[typekey]\n\u001b[1;32m   <a href='file:///home/dimi/miniconda3/envs/tomography/lib/python3.9/site-packages/PIL/Image.py?line=2928'>2929</a>\u001b[0m \u001b[39mexcept\u001b[39;00m \u001b[39mKeyError\u001b[39;00m \u001b[39mas\u001b[39;00m e:\n",
      "\u001b[0;31mKeyError\u001b[0m: ((1, 1, 200), '<f8')",
      "\nThe above exception was the direct cause of the following exception:\n",
      "\u001b[0;31mTypeError\u001b[0m                                 Traceback (most recent call last)",
      "\u001b[1;32m/home/dimi/Workdir/DART_python/test.ipynb Cell 4'\u001b[0m in \u001b[0;36m<cell line: 1>\u001b[0;34m()\u001b[0m\n\u001b[0;32m----> <a href='vscode-notebook-cell:/home/dimi/Workdir/DART_python/test.ipynb#ch0000003?line=0'>1</a>\u001b[0m Image\u001b[39m.\u001b[39;49mfromarray(phantom)\n",
      "File \u001b[0;32m~/miniconda3/envs/tomography/lib/python3.9/site-packages/PIL/Image.py:2930\u001b[0m, in \u001b[0;36mfromarray\u001b[0;34m(obj, mode)\u001b[0m\n\u001b[1;32m   <a href='file:///home/dimi/miniconda3/envs/tomography/lib/python3.9/site-packages/PIL/Image.py?line=2927'>2928</a>\u001b[0m         mode, rawmode \u001b[39m=\u001b[39m _fromarray_typemap[typekey]\n\u001b[1;32m   <a href='file:///home/dimi/miniconda3/envs/tomography/lib/python3.9/site-packages/PIL/Image.py?line=2928'>2929</a>\u001b[0m     \u001b[39mexcept\u001b[39;00m \u001b[39mKeyError\u001b[39;00m \u001b[39mas\u001b[39;00m e:\n\u001b[0;32m-> <a href='file:///home/dimi/miniconda3/envs/tomography/lib/python3.9/site-packages/PIL/Image.py?line=2929'>2930</a>\u001b[0m         \u001b[39mraise\u001b[39;00m \u001b[39mTypeError\u001b[39;00m(\u001b[39m\"\u001b[39m\u001b[39mCannot handle this data type: \u001b[39m\u001b[39m%s\u001b[39;00m\u001b[39m, \u001b[39m\u001b[39m%s\u001b[39;00m\u001b[39m\"\u001b[39m \u001b[39m%\u001b[39m typekey) \u001b[39mfrom\u001b[39;00m \u001b[39me\u001b[39;00m\n\u001b[1;32m   <a href='file:///home/dimi/miniconda3/envs/tomography/lib/python3.9/site-packages/PIL/Image.py?line=2930'>2931</a>\u001b[0m \u001b[39melse\u001b[39;00m:\n\u001b[1;32m   <a href='file:///home/dimi/miniconda3/envs/tomography/lib/python3.9/site-packages/PIL/Image.py?line=2931'>2932</a>\u001b[0m     rawmode \u001b[39m=\u001b[39m mode\n",
      "\u001b[0;31mTypeError\u001b[0m: Cannot handle this data type: (1, 1, 200), <f8"
     ]
    }
   ],
   "source": [
    "Image.fromarray(phantom)"
   ]
  },
  {
   "cell_type": "code",
   "execution_count": null,
   "metadata": {},
   "outputs": [],
   "source": [
    "import astra\n",
    "import numpy as np\n",
    "\n",
    "vol_geom = astra.create_vol_geom(256, 256)\n",
    "\n",
    "proj_geom = astra.create_proj_geom('parallel', 1.0, 384, np.linspace(0,np.pi,180,False))\n",
    "\n",
    "\n",
    "# Create volumes\n",
    "\n",
    "# initialized to zero\n",
    "v0 = astra.data2d.create('-vol', vol_geom)\n",
    "\n",
    "# initialized to 3.0\n",
    "v1 = astra.data2d.create('-vol', vol_geom, 3.0)\n",
    "\n",
    "# initialized to a matrix. A may be a single, double or logical (0/1) array.\n",
    "import scipy.io\n",
    "A = scipy.io.loadmat('phantom.mat')['phantom256']\n",
    "v2 = astra.data2d.create('-vol', vol_geom, A)\n",
    "\n",
    "\n",
    "# Projection data\n",
    "s0 = astra.data2d.create('-sino', proj_geom)\n",
    "# Initialization to a scalar or a matrix also works, exactly as with a volume.\n",
    "\n",
    "\n",
    "# Update data\n",
    "\n",
    "# set to zero\n",
    "astra.data2d.store(v0, 0)\n",
    "\n",
    "# set to a matrix\n",
    "astra.data2d.store(v2, A)\n",
    "\n",
    "\n",
    "\n",
    "# Retrieve data\n",
    "\n",
    "R = astra.data2d.get(v2)\n",
    "import pylab\n",
    "pylab.gray()\n",
    "pylab.imshow(R)\n",
    "pylab.show()\n",
    "\n",
    "\n",
    "# Free memory\n",
    "astra.data2d.delete(v0)\n",
    "astra.data2d.delete(v1)\n",
    "astra.data2d.delete(v2)\n",
    "astra.data2d.delete(s0)"
   ]
  }
 ],
 "metadata": {
  "interpreter": {
   "hash": "8b7515f106fad933f1d4e00426784d523b34b2ca5f1101fd52021c5ab1e6e319"
  },
  "kernelspec": {
   "display_name": "Python 3.9.12 ('tomography')",
   "language": "python",
   "name": "python3"
  },
  "language_info": {
   "codemirror_mode": {
    "name": "ipython",
    "version": 3
   },
   "file_extension": ".py",
   "mimetype": "text/x-python",
   "name": "python",
   "nbconvert_exporter": "python",
   "pygments_lexer": "ipython3",
   "version": "3.9.12"
  },
  "orig_nbformat": 4
 },
 "nbformat": 4,
 "nbformat_minor": 2
}
