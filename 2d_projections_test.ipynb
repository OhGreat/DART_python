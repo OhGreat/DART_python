{
 "cells": [
  {
   "cell_type": "code",
   "execution_count": 1,
   "metadata": {},
   "outputs": [],
   "source": [
    "from __future__ import division\n",
    "import numpy as np\n",
    "from os import mkdir\n",
    "from os.path import join, isdir\n",
    "from imageio import get_writer\n",
    "from PIL import Image\n",
    "import astra\n",
    "from src.measurements.projections import *"
   ]
  },
  {
   "cell_type": "markdown",
   "metadata": {},
   "source": [
    "<h4>Create 2D phantom</h4>"
   ]
  },
  {
   "cell_type": "code",
   "execution_count": 2,
   "metadata": {},
   "outputs": [
    {
     "name": "stdout",
     "output_type": "stream",
     "text": [
      "Original phantom\n"
     ]
    },
    {
     "data": {
      "image/png": "[encoded data removed]",
      "text/plain": [
       "<PIL.Image.Image image mode=L size=256x256 at 0x7F42B05F3700>"
      ]
     },
     "execution_count": 2,
     "metadata": {},
     "output_type": "execute_result"
    }
   ],
   "source": [
    "img_width, img_height = 256, 256\n",
    "\n",
    "# create a simple phantom\n",
    "phantom_data = np.full(fill_value=0,shape=(img_width, img_height))\n",
    "phantom_data[30:80, 130: 160] = 30 # top right, darkest\n",
    "phantom_data[60:110, 180:240] = 60  # top right, brighter of the two\n",
    "phantom_data[150:200, 150:200] = 90  # bottom right, gray\n",
    "phantom_data[170:230, 20:90] = 120  # bottom left one\n",
    "phantom_data[100:150, 100:160] = 150  # middle one\n",
    "phantom_data[50:100, 50:100] = 180  # top left\n",
    "phantom_data[220:245,150:200] = 255 # bottom right, brigh white\n",
    "phantom_data = phantom_data.astype(np.uint8)\n",
    "print(\"Original phantom\")\n",
    "Image.fromarray(phantom_data)"
   ]
  },
  {
   "cell_type": "markdown",
   "metadata": {},
   "source": [
    "<h4>Creating phantom volume and add to astra wrapper</h4>"
   ]
  },
  {
   "cell_type": "code",
   "execution_count": 3,
   "metadata": {},
   "outputs": [],
   "source": [
    "vol_geom = astra.creators.create_vol_geom([img_width,img_height])\n",
    "phantom_id = astra.data2d.create('-vol', vol_geom, data=phantom_data)"
   ]
  },
  {
   "cell_type": "markdown",
   "metadata": {},
   "source": [
    "<h4>Create projections</h4>"
   ]
  },
  {
   "cell_type": "code",
   "execution_count": 4,
   "metadata": {},
   "outputs": [],
   "source": [
    "n_projections = 180\n",
    "detector_rows = img_width\n",
    "detector_cols = img_height\n",
    "detector_pixel_size = 1.05\n",
    "\n",
    "angles = np.linspace(0, 2*np.pi, n_projections)\n",
    "proj_geom = astra.create_proj_geom('parallel', detector_pixel_size, detector_rows, angles)\n",
    "projector = astra.create_projector('line', proj_geom, vol_geom)\n",
    "proj_id, projections = astra.creators.create_sino(phantom_id, projector)"
   ]
  },
  {
   "cell_type": "code",
   "execution_count": 5,
   "metadata": {},
   "outputs": [
    {
     "data": {
      "text/plain": [
       "(180, 256)"
      ]
     },
     "execution_count": 5,
     "metadata": {},
     "output_type": "execute_result"
    }
   ],
   "source": [
    "projections.shape"
   ]
  },
  {
   "cell_type": "code",
   "execution_count": 6,
   "metadata": {},
   "outputs": [
    {
     "data": {
      "text/plain": [
       "\"output_dir = 'dataset/'\\n\\n# Save projections.\\nif not isdir(output_dir):\\n    mkdir(output_dir)\\nprojections = np.round(projections * 65535).astype(np.uint8)\\nfor i in range(n_projections):\\n    projection = projections[i]\\n    with get_writer(join(output_dir, 'proj%04d.png' %i)) as writer:\\n        writer.append_data(projection, {'compress': 9})\""
      ]
     },
     "execution_count": 6,
     "metadata": {},
     "output_type": "execute_result"
    }
   ],
   "source": [
    "\"\"\"output_dir = 'dataset/'\n",
    "\n",
    "# Save projections.\n",
    "if not isdir(output_dir):\n",
    "    mkdir(output_dir)\n",
    "projections = np.round(projections * 65535).astype(np.uint8)\n",
    "for i in range(n_projections):\n",
    "    projection = projections[i]\n",
    "    with get_writer(join(output_dir, 'proj%04d.png' %i)) as writer:\n",
    "        writer.append_data(projection, {'compress': 9})\"\"\""
   ]
  },
  {
   "cell_type": "code",
   "execution_count": 7,
   "metadata": {},
   "outputs": [],
   "source": [
    "id, projs = project_from_2D(phantom_data,180,1.05)"
   ]
  },
  {
   "cell_type": "code",
   "execution_count": 8,
   "metadata": {},
   "outputs": [
    {
     "data": {
      "text/plain": [
       "array([    0.     ,     0.     ,     0.     ,     0.     ,     0.     ,\n",
       "           0.     ,     0.     ,     0.     ,     0.     ,     0.     ,\n",
       "           0.     ,     0.     ,     0.     ,     0.     ,     0.     ,\n",
       "           0.     ,     0.     ,     0.     ,     0.     ,     0.     ,\n",
       "           0.     ,     0.     ,     0.     ,     0.     ,     0.     ,\n",
       "           0.     ,   307.87354,   730.79816,  1153.7229 ,  1576.6449 ,\n",
       "        1999.5669 ,  2422.489  ,  2845.4111 ,  3268.333  ,  3691.2576 ,\n",
       "        4114.1816 ,  4537.105  ,  4960.0273 ,  5382.9487 ,  5805.8696 ,\n",
       "        6228.793  ,  6651.7163 ,  7074.642  ,  7497.5596 ,  7920.481  ,\n",
       "        8343.41   ,  8766.33   ,  9189.251  ,  9612.178  , 10035.099  ,\n",
       "       10523.526  , 10711.393  , 10781.879  , 10852.366  , 10922.852  ,\n",
       "       10993.341  , 11063.826  , 11134.313  , 11204.8    , 11275.288  ,\n",
       "       11345.774  , 11416.261  , 11486.749  , 11557.237  , 11627.72   ,\n",
       "       11632.941  , 11547.2295 , 11124.303  , 10701.387  , 10278.458  ,\n",
       "        9855.537  ,  9432.617  ,  9009.689  ,  8586.774  ,  8163.8496 ,\n",
       "        7740.927  ,  7318.0054 ,  6895.0835 ,  6472.162  ,  6049.2397 ,\n",
       "        5626.3164 ,  5203.3945 ,  4780.4673 ,  4357.5454 ,  3934.6238 ,\n",
       "        3511.701  ,  3088.779  ,  2665.856  ,  2242.9285 ,  1820.0065 ,\n",
       "        1368.6106 ,  1028.0618 ,  1310.0096 ,  1591.9579 ,  1873.9058 ,\n",
       "        2155.8542 ,  2437.8022 ,  2719.754  ,  3001.6985 ,  3369.4397 ,\n",
       "        3792.362  ,  4215.2783 ,  4638.211  ,  5061.134  ,  5484.056  ,\n",
       "        5935.2188 ,  6428.6274 ,  6922.037  ,  7548.12   ,  8323.4795 ,\n",
       "        9098.835  ,  9874.191  , 10649.551  , 11424.916  , 12200.268  ,\n",
       "       12975.635  , 13750.991  , 14526.346  , 15301.713  , 16077.07   ,\n",
       "       16852.422  , 17560.635  , 17983.555  , 18406.473  , 18829.389  ,\n",
       "       19252.312  , 19675.236  , 20098.156  , 20521.086  , 20859.15   ,\n",
       "       21141.088  , 21423.045  , 21468.201  , 21397.723  , 21327.23   ,\n",
       "       21256.742  , 21186.256  , 21115.766  , 21045.275  , 20963.057  ,\n",
       "       20751.604  , 20540.143  , 20328.682  , 19986.732  , 19493.326  ,\n",
       "       18999.908  , 18506.504  , 18013.1    , 17519.695  , 17026.283  ,\n",
       "       16532.875  , 16039.466  , 15546.053  , 15052.6455 , 14559.237  ,\n",
       "       14065.828  , 13572.415  , 12983.006  , 12419.117  , 11855.22   ,\n",
       "       11291.325  , 10727.426  , 10397.97   , 10186.504  ,  9975.044  ,\n",
       "        9763.586  ,  9552.12   ,  9340.654  ,  9129.195  ,  8928.537  ,\n",
       "        8858.052  ,  8787.564  ,  8717.075  ,  8646.585  ,  8576.101  ,\n",
       "        8505.615  ,  8435.122  ,  8364.642  ,  8294.151  ,  8223.664  ,\n",
       "        8153.1787 ,  8082.691  ,  7872.47   ,  7590.5234 ,  7308.5776 ,\n",
       "        7026.627  ,  6744.679  ,  6462.7305 ,  6180.784  ,  5898.829  ,\n",
       "        5616.887  ,  5334.9404 ,  5287.702  ,  5287.7026 ,  5287.7026 ,\n",
       "        5287.7036 ,  5287.703  ,  5257.882  ,  5046.4194 ,  4834.96   ,\n",
       "        4623.499  ,  4412.0386 ,  4200.577  ,  3989.1152 ,  3777.6533 ,\n",
       "        3566.1934 ,  3354.733  ,  3143.2651 ,  2931.8047 ,  2720.3489 ,\n",
       "        2508.883  ,  2297.4219 ,  2085.9604 ,  1874.4996 ,  2220.7798 ,\n",
       "        2608.4487 ,  2996.1377 ,  3383.816  ,  3771.494  ,  4159.173  ,\n",
       "        4546.8506 ,  4934.54   ,  5350.858  ,  5950.0127 ,  6549.136  ,\n",
       "        7148.291  ,  7747.43   ,  8346.569  ,  8945.697  ,  9544.851  ,\n",
       "       10143.988  , 10743.133  , 11342.27   , 11941.41   , 12140.178  ,\n",
       "       12140.172  , 12140.178  , 12140.174  , 12140.178  , 11585.736  ,\n",
       "       10986.614  , 10387.476  ,  9788.321  ,  9189.181  ,  8590.04   ,\n",
       "        7990.9014 ,  7391.7617 ,  6792.623  ,  6193.4824 ,  5594.3433 ,\n",
       "        4995.2036 ,  4396.064  ,  3796.9243 ,  3197.7847 ,  2598.6453 ,\n",
       "        1999.4908 ], dtype=float32)"
      ]
     },
     "execution_count": 8,
     "metadata": {},
     "output_type": "execute_result"
    }
   ],
   "source": [
    "projs[150]"
   ]
  },
  {
   "cell_type": "code",
   "execution_count": null,
   "metadata": {},
   "outputs": [],
   "source": []
  }
 ],
 "metadata": {
  "interpreter": {
   "hash": "43934174415e06c815b51e25523b3b6837fb01cc9d23977351fa4d63412ea153"
  },
  "kernelspec": {
   "display_name": "Python 3.9.12 ('image_processing')",
   "language": "python",
   "name": "python3"
  },
  "language_info": {
   "codemirror_mode": {
    "name": "ipython",
    "version": 3
   },
   "file_extension": ".py",
   "mimetype": "text/x-python",
   "name": "python",
   "nbconvert_exporter": "python",
   "pygments_lexer": "ipython3",
   "version": "3.9.12"
  },
  "orig_nbformat": 4
 },
 "nbformat": 4,
 "nbformat_minor": 2
}
