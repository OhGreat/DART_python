{
 "cells": [
  {
   "cell_type": "code",
   "execution_count": 1,
   "metadata": {},
   "outputs": [],
   "source": [
    "from __future__ import division\n",
    "import numpy as np\n",
    "from os import mkdir\n",
    "from os.path import join, isdir\n",
    "from imageio import get_writer\n",
    "from PIL import Image\n",
    "import astra\n",
    "from src.projections_generator.project_2D import *"
   ]
  },
  {
   "cell_type": "markdown",
   "metadata": {},
   "source": [
    "<h4>Create 2D phantom</h4>"
   ]
  },
  {
   "cell_type": "code",
   "execution_count": 2,
   "metadata": {},
   "outputs": [
    {
     "name": "stdout",
     "output_type": "stream",
     "text": [
      "Original phantom\n"
     ]
    },
    {
     "data": {
      "image/png": "[encoded data removed]",
      "text/plain": [
       "<PIL.Image.Image image mode=L size=256x256 at 0x7F06942603A0>"
      ]
     },
     "execution_count": 2,
     "metadata": {},
     "output_type": "execute_result"
    }
   ],
   "source": [
    "img_width, img_height = 256, 256\n",
    "\n",
    "# create a simple phantom\n",
    "phantom_data = np.full(fill_value=0,shape=(img_width, img_height))\n",
    "phantom_data[30:80, 130: 160] = 30 # top right, darkest\n",
    "phantom_data[60:110, 180:240] = 60  # top right, brighter of the two\n",
    "phantom_data[150:200, 150:200] = 90  # bottom right, gray\n",
    "phantom_data[170:230, 20:90] = 120  # bottom left one\n",
    "phantom_data[100:150, 100:160] = 150  # middle one\n",
    "phantom_data[50:100, 50:100] = 180  # top left\n",
    "phantom_data[220:245,150:200] = 255 # bottom right, brigh white\n",
    "phantom_data = phantom_data.astype(np.uint8)\n",
    "print(\"Original phantom\")\n",
    "Image.fromarray(phantom_data)"
   ]
  },
  {
   "cell_type": "markdown",
   "metadata": {},
   "source": [
    "<h4>Creating phantom volume and add to astra wrapper</h4>"
   ]
  },
  {
   "cell_type": "code",
   "execution_count": 3,
   "metadata": {},
   "outputs": [],
   "source": [
    "vol_geom = astra.creators.create_vol_geom([img_width,img_height])\n",
    "phantom_id = astra.data2d.create('-vol', vol_geom, data=phantom_data)"
   ]
  },
  {
   "cell_type": "markdown",
   "metadata": {},
   "source": [
    "<h4>Create projections</h4>"
   ]
  },
  {
   "cell_type": "code",
   "execution_count": 4,
   "metadata": {},
   "outputs": [],
   "source": [
    "n_projections = 180\n",
    "detector_rows = img_width\n",
    "detector_cols = img_height\n",
    "detector_pixel_size = 1.05\n",
    "\n",
    "angles = np.linspace(0, 2*np.pi, n_projections)\n",
    "proj_geom = astra.create_proj_geom('parallel', detector_pixel_size, detector_rows, angles)\n",
    "projector = astra.create_projector('line', proj_geom, vol_geom)\n",
    "proj_id, projections = astra.creators.create_sino(phantom_id, projector)"
   ]
  },
  {
   "cell_type": "code",
   "execution_count": 5,
   "metadata": {},
   "outputs": [
    {
     "data": {
      "text/plain": [
       "(180, 256)"
      ]
     },
     "execution_count": 5,
     "metadata": {},
     "output_type": "execute_result"
    }
   ],
   "source": [
    "projections.shape"
   ]
  },
  {
   "cell_type": "code",
   "execution_count": 6,
   "metadata": {},
   "outputs": [
    {
     "data": {
      "text/plain": [
       "\"output_dir = 'dataset/'\\n\\n# Save projections.\\nif not isdir(output_dir):\\n    mkdir(output_dir)\\nprojections = np.round(projections * 65535).astype(np.uint8)\\nfor i in range(n_projections):\\n    projection = projections[i]\\n    with get_writer(join(output_dir, 'proj%04d.png' %i)) as writer:\\n        writer.append_data(projection, {'compress': 9})\""
      ]
     },
     "execution_count": 6,
     "metadata": {},
     "output_type": "execute_result"
    }
   ],
   "source": [
    "\"\"\"output_dir = 'dataset/'\n",
    "\n",
    "# Save projections.\n",
    "if not isdir(output_dir):\n",
    "    mkdir(output_dir)\n",
    "projections = np.round(projections * 65535).astype(np.uint8)\n",
    "for i in range(n_projections):\n",
    "    projection = projections[i]\n",
    "    with get_writer(join(output_dir, 'proj%04d.png' %i)) as writer:\n",
    "        writer.append_data(projection, {'compress': 9})\"\"\""
   ]
  },
  {
   "cell_type": "code",
   "execution_count": 7,
   "metadata": {},
   "outputs": [],
   "source": [
    "id, projs = project_from_2D(phantom_data,180,1.05, save_dir='test')"
   ]
  },
  {
   "cell_type": "code",
   "execution_count": 8,
   "metadata": {},
   "outputs": [
    {
     "data": {
      "text/plain": [
       "array([  0,   0,   0,   0,   0,   0,   0,   0,   0,   0,   0,   0,   0,\n",
       "         0,   0,   0,   0,   0,   0,   0,   0,   0,   0,   0,   0,   0,\n",
       "       172, 242,  55, 124, 194,   7,  76, 145, 215,  28,  98, 167, 236,\n",
       "        49, 118, 188,   2,  70, 139, 210,  22,  91, 161, 230, 107, 141,\n",
       "       195, 250,  47, 102, 156, 210,   8,  62, 116, 170, 225,  24,  76,\n",
       "       128,  32, 217, 150,  79,  10, 198, 127,  60, 246, 176, 107,  38,\n",
       "       225, 156,  87,  18, 203, 134,  65, 252, 183, 113,  43, 230,  68,\n",
       "        12, 228, 189, 150, 111,  72,  33, 249,  71, 140, 208,  24,  93,\n",
       "       162,   9, 132,   0, 163, 247,  75, 159, 244,  74, 156, 243,  71,\n",
       "       154, 241,  69, 152,  10,  78, 146, 214,  28,  98, 166, 237, 172,\n",
       "       130,  92,  88,  36, 236, 182, 127,  72,  17,  44, 139, 232,  70,\n",
       "       169,  46, 176,  54, 188,  66, 198,  75, 208,  84, 216,  94, 226,\n",
       "       102,  74, 155, 233,  56, 134,  90, 182,  20, 114, 207,  43, 137,\n",
       "       169, 115,  61,   6, 207, 154, 100,  44, 248, 192, 138,  85,  30,\n",
       "       184, 224,   7,  46,  85, 124, 164, 201, 242,  26,  12,  12,  12,\n",
       "        12,  12,  88, 181,  19, 112, 206,  43, 136, 230,  67, 161, 253,\n",
       "        90, 185,  21, 115, 208,  45,  27,  66, 111, 153, 195, 237,  23,\n",
       "        68, 245, 197, 142,  94,  43, 247, 193, 145,  93,  43, 247, 196,\n",
       "       193, 192, 193, 192, 193, 123, 179, 230,  22,  73, 124, 176, 227,\n",
       "        23,  74, 126, 177, 228,  24,  75, 127, 174], dtype=uint8)"
      ]
     },
     "execution_count": 8,
     "metadata": {},
     "output_type": "execute_result"
    }
   ],
   "source": [
    "projs[150]"
   ]
  },
  {
   "cell_type": "code",
   "execution_count": null,
   "metadata": {},
   "outputs": [],
   "source": []
  }
 ],
 "metadata": {
  "interpreter": {
   "hash": "43934174415e06c815b51e25523b3b6837fb01cc9d23977351fa4d63412ea153"
  },
  "kernelspec": {
   "display_name": "Python 3.9.12 ('image_processing')",
   "language": "python",
   "name": "python3"
  },
  "language_info": {
   "codemirror_mode": {
    "name": "ipython",
    "version": 3
   },
   "file_extension": ".py",
   "mimetype": "text/x-python",
   "name": "python",
   "nbconvert_exporter": "python",
   "pygments_lexer": "ipython3",
   "version": "3.9.12"
  },
  "orig_nbformat": 4
 },
 "nbformat": 4,
 "nbformat_minor": 2
}
