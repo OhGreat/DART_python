{
 "cells": [
  {
   "cell_type": "code",
   "execution_count": 1,
   "metadata": {},
   "outputs": [],
   "source": [
    "from __future__ import division\n",
    "import numpy as np\n",
    "from os import mkdir\n",
    "from os.path import join, isdir\n",
    "from imageio import get_writer\n",
    "from PIL import Image\n",
    "import matplotlib.pyplot as plt\n",
    "import astra"
   ]
  },
  {
   "cell_type": "markdown",
   "metadata": {},
   "source": [
    "<h4>Create 2D phantom</h4>"
   ]
  },
  {
   "cell_type": "code",
   "execution_count": 2,
   "metadata": {},
   "outputs": [
    {
     "name": "stdout",
     "output_type": "stream",
     "text": [
      "Original phantom\n"
     ]
    },
    {
     "data": {
      "image/png": "[encoded data removed]",
      "text/plain": [
       "<PIL.Image.Image image mode=L size=256x256 at 0x7F43202C44F0>"
      ]
     },
     "execution_count": 2,
     "metadata": {},
     "output_type": "execute_result"
    }
   ],
   "source": [
    "img_width, img_height = 256, 256\n",
    "\n",
    "# create a simple phantom\n",
    "phantom_data = np.full(fill_value=0,shape=(img_width, img_height))\n",
    "phantom_data[30:80, 130: 160] = 30 # top right, darkest\n",
    "phantom_data[60:110, 180:240] = 60  # top right, brighter of the two\n",
    "phantom_data[150:200, 150:200] = 90  # bottom right, gray\n",
    "phantom_data[170:230, 20:90] = 120  # bottom left one\n",
    "phantom_data[100:150, 100:160] = 150  # middle one\n",
    "phantom_data[50:100, 50:100] = 180  # top left\n",
    "phantom_data[220:245,150:200] = 255 # bottom right, brigh white\n",
    "phantom_data = phantom_data.astype(np.uint8)\n",
    "print(\"Original phantom\")\n",
    "Image.fromarray(phantom_data)"
   ]
  },
  {
   "cell_type": "markdown",
   "metadata": {},
   "source": [
    "<h4>Creating phantom volume and add to astra wrapper</h4>"
   ]
  },
  {
   "cell_type": "code",
   "execution_count": 3,
   "metadata": {},
   "outputs": [],
   "source": [
    "vol_geom = astra.creators.create_vol_geom([img_width,img_height])\n",
    "phantom_id = astra.data2d.create('-vol', vol_geom, data=phantom_data)"
   ]
  },
  {
   "cell_type": "markdown",
   "metadata": {},
   "source": [
    "<h4>Create projections</h4>"
   ]
  },
  {
   "cell_type": "code",
   "execution_count": 4,
   "metadata": {},
   "outputs": [],
   "source": [
    "n_projections = 180\n",
    "detector_rows = img_width\n",
    "detector_cols = img_height\n",
    "detector_pixel_size = 1.05\n",
    "\n",
    "angles = np.linspace(0, 2*np.pi, n_projections)\n",
    "proj_geom = astra.create_proj_geom('parallel', detector_pixel_size, detector_rows, angles)\n",
    "projector = astra.create_projector('line', proj_geom, vol_geom)\n",
    "proj_id, projections = astra.creators.create_sino(phantom_id, projector)"
   ]
  },
  {
   "cell_type": "code",
   "execution_count": 5,
   "metadata": {},
   "outputs": [
    {
     "data": {
      "text/plain": [
       "(180, 256)"
      ]
     },
     "execution_count": 5,
     "metadata": {},
     "output_type": "execute_result"
    }
   ],
   "source": [
    "projections.shape"
   ]
  },
  {
   "cell_type": "code",
   "execution_count": 7,
   "metadata": {},
   "outputs": [],
   "source": [
    "output_dir = 'dataset/'\n",
    "\n",
    "# Save projections.\n",
    "if not isdir(output_dir):\n",
    "    mkdir(output_dir)\n",
    "projections = np.round(projections * 65535).astype(np.uint8)\n",
    "for i in range(n_projections):\n",
    "    projection = projections[i]\n",
    "    with get_writer(join(output_dir, 'proj%04d.png' %i)) as writer:\n",
    "        writer.append_data(projection, {'compress': 9})"
   ]
  },
  {
   "cell_type": "code",
   "execution_count": null,
   "metadata": {},
   "outputs": [],
   "source": []
  }
 ],
 "metadata": {
  "interpreter": {
   "hash": "43934174415e06c815b51e25523b3b6837fb01cc9d23977351fa4d63412ea153"
  },
  "kernelspec": {
   "display_name": "Python 3.9.12 ('image_processing')",
   "language": "python",
   "name": "python3"
  },
  "language_info": {
   "codemirror_mode": {
    "name": "ipython",
    "version": 3
   },
   "file_extension": ".py",
   "mimetype": "text/x-python",
   "name": "python",
   "nbconvert_exporter": "python",
   "pygments_lexer": "ipython3",
   "version": "3.9.12"
  },
  "orig_nbformat": 4
 },
 "nbformat": 4,
 "nbformat_minor": 2
}
