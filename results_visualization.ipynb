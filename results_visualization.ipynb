{
 "cells": [
  {
   "cell_type": "code",
   "execution_count": 2,
   "metadata": {},
   "outputs": [],
   "source": [
    "import numpy as np\n",
    "from os import listdir\n",
    "import matplotlib.pyplot as plt\n",
    "from PIL import Image\n",
    "from src.algorithms import DART\n",
    "from src.projections import *\n",
    "from src.phantom_creator import *"
   ]
  },
  {
   "cell_type": "code",
   "execution_count": 7,
   "metadata": {},
   "outputs": [],
   "source": [
    "curr_errors = []\n",
    "curr_dir = 'results/SIRT_10proj_512det_1sp/semilunars/'\n",
    "for filename in sorted(listdir(curr_dir)):\n",
    "    if '.npy' in filename:\n",
    "        curr_errors.append(np.load(curr_dir+filename))"
   ]
  },
  {
   "cell_type": "code",
   "execution_count": 8,
   "metadata": {},
   "outputs": [
    {
     "data": {
      "text/plain": [
       "[array([12.844074 , 11.215507 , 10.957446 , 47.33406  , 10.837789 ,\n",
       "        10.764573 , 10.735701 , 10.720397 , 10.711247 , 10.705262 ,\n",
       "        10.701063 , 10.697942 , 10.69551  , 10.693541 , 10.691904 ,\n",
       "        10.690514 , 10.689304 , 10.688249 , 10.687321 , 10.686495 ,\n",
       "        10.685755 , 10.685091 , 10.684488 , 10.6839485, 10.683449 ,\n",
       "        10.682995 , 10.682577 , 10.682194 , 10.681841 , 10.681512 ,\n",
       "        10.681208 , 10.680926 , 10.680663 , 10.680419 , 10.680194 ,\n",
       "        10.679978 , 10.679778 , 10.679587 , 10.679406 , 10.679237 ,\n",
       "        10.67907  , 10.678916 , 10.678766 , 10.678622 ], dtype=float32),\n",
       " array([14.258134 , 11.912033 , 11.35051  , 47.745514 , 11.082282 ,\n",
       "        10.994363 , 10.972898 , 10.960361 , 10.951614 , 10.945026 ,\n",
       "        10.939832 , 10.935589 , 10.932031 , 10.928991 , 10.926347 ,\n",
       "        10.924016 , 10.921946 , 10.920094 , 10.918438 , 10.916946 ,\n",
       "        10.915601 , 10.914378 , 10.913255 , 10.912231 , 10.911288 ,\n",
       "        10.910421 , 10.909623 , 10.908885 , 10.908197 , 10.907554 ,\n",
       "        10.906952 , 10.90639  , 10.905857 , 10.905358 , 10.904885 ,\n",
       "        10.904436 , 10.904012 , 10.903608 , 10.903225 , 10.902858 ,\n",
       "        10.90251  , 10.902176 , 10.9018545, 10.90155  ], dtype=float32),\n",
       " array([13.27392  , 11.768165 , 11.5062685, 47.12677  , 11.379059 ,\n",
       "        11.304019 , 11.276494 , 11.261911 , 11.252932 , 11.246803 ,\n",
       "        11.242302 , 11.2388   , 11.235958 , 11.2335825, 11.231544 ,\n",
       "        11.229771 , 11.228213 , 11.226832 , 11.225609 , 11.224514 ,\n",
       "        11.223524 , 11.222631 , 11.221824 , 11.221097 , 11.220437 ,\n",
       "        11.219842 , 11.219298 , 11.218799 , 11.218341 , 11.217916 ,\n",
       "        11.21753  , 11.217172 , 11.216843 , 11.216536 , 11.2162485,\n",
       "        11.215982 , 11.215734 , 11.215506 , 11.215285 , 11.215084 ,\n",
       "        11.2148905, 11.214708 , 11.214536 , 11.214372 ], dtype=float32)]"
      ]
     },
     "execution_count": 8,
     "metadata": {},
     "output_type": "execute_result"
    }
   ],
   "source": [
    "curr_errors"
   ]
  },
  {
   "cell_type": "code",
   "execution_count": null,
   "metadata": {},
   "outputs": [],
   "source": []
  }
 ],
 "metadata": {
  "interpreter": {
   "hash": "43934174415e06c815b51e25523b3b6837fb01cc9d23977351fa4d63412ea153"
  },
  "kernelspec": {
   "display_name": "Python 3.9.12 ('image_processing')",
   "language": "python",
   "name": "python3"
  },
  "language_info": {
   "codemirror_mode": {
    "name": "ipython",
    "version": 3
   },
   "file_extension": ".py",
   "mimetype": "text/x-python",
   "name": "python",
   "nbconvert_exporter": "python",
   "pygments_lexer": "ipython3",
   "version": "3.9.12"
  },
  "orig_nbformat": 4
 },
 "nbformat": 4,
 "nbformat_minor": 2
}
