{
 "cells": [
  {
   "cell_type": "code",
   "execution_count": 1,
   "metadata": {},
   "outputs": [],
   "source": [
    "import astra \n",
    "import numpy as np\n",
    "import matplotlib.pyplot as plt\n",
    "from PIL import Image"
   ]
  },
  {
   "cell_type": "code",
   "execution_count": 2,
   "metadata": {},
   "outputs": [],
   "source": [
    "def create_image(x,y):\n",
    "    if x== 256 and y == 256:\n",
    "        x = 80\n",
    "        y = 80\n",
    "    else:\n",
    "        x = 164\n",
    "        y = 164\n",
    "\n",
    "    image = np.ones([x,y])\n",
    "    # Resize Image\n",
    "    diag = len(np.diag(image)//2)\n",
    "    if x == 80 and y == 80:\n",
    "        plus = 8\n",
    "    else: \n",
    "        plus = 10\n",
    "    \n",
    "    image = np.pad(image, pad_width=diag+plus)\n",
    "    \n",
    "    _ = np.linspace(-1, 1, image.shape[0])\n",
    "    xv, yv = np.meshgrid(_,_)\n",
    "    return image, xv, yv"
   ]
  },
  {
   "cell_type": "code",
   "execution_count": null,
   "metadata": {},
   "outputs": [],
   "source": []
  },
  {
   "cell_type": "code",
   "execution_count": 83,
   "metadata": {},
   "outputs": [],
   "source": [
    "def create_circles(x, y, n, overlap):\n",
    "    circles = []\n",
    "    np.random.seed(0)\n",
    "    for i in range(n):\n",
    "        \n",
    "        image, xv, yv = create_image(x,y)\n",
    "        mu, sigma = 0 , 0.1\n",
    "        noise =  np.abs(np.random.normal(mu, sigma, 2))\n",
    "        \n",
    "        image[xv**2 + yv**2 >0.6] = 0\n",
    "        image[xv**2 + yv**2 <0.49] = 50\n",
    "        if overlap == True:\n",
    "            image[(xv-0.1+noise[0])**2 + (yv-0.1+noise[0])**2 <0.3] = 160\n",
    "            image[(xv-0.1+noise[1])**2 + (yv-0.1+noise[1])**2 <0.19] = 40\n",
    "            image[(xv-0.1+noise[0])**2 + (yv-0.1+noise[0])**2 <0.11] = 80\n",
    "            image[(xv-0.2+noise[1])**2 + (yv-0.2+noise[1])**2 <0.02] = 40\n",
    "        else: \n",
    "            image[(xv-0.1+noise[0])**2 + (yv-0.1+noise[0])**2 <0.3] = 160\n",
    "            image[(xv-0.1+noise[0])**2 + (yv-0.1+noise[0])**2 <0.19] = 40\n",
    "            image[(xv-0.1+noise[0])**2 + (yv-0.1+noise[0])**2 <0.11] = 80\n",
    "            image[(xv-0.2+noise[0])**2 + (yv-0.2+noise[0])**2 <0.02] = 40\n",
    "            \n",
    "        circles.append(image)\n",
    "\n",
    "        \n",
    "    return circles"
   ]
  },
  {
   "cell_type": "code",
   "execution_count": 84,
   "metadata": {},
   "outputs": [],
   "source": [
    "circles = create_circles(512,512,10, overlap = True)"
   ]
  },
  {
   "cell_type": "code",
   "execution_count": 85,
   "metadata": {},
   "outputs": [],
   "source": [
    "for i in range(10):\n",
    "    img = Image.fromarray(circles[i].astype(np.uint8))\n",
    "    img.save(f\"circles{i}.png\")"
   ]
  },
  {
   "cell_type": "code",
   "execution_count": 19,
   "metadata": {},
   "outputs": [
    {
     "data": {
      "text/plain": [
       "<matplotlib.image.AxesImage at 0x1e2c1864ee0>"
      ]
     },
     "execution_count": 19,
     "metadata": {},
     "output_type": "execute_result"
    },
    {
     "data": {
      "image/png": "[encoded data removed]",
      "text/plain": [
       "<Figure size 432x288 with 1 Axes>"
      ]
     },
     "metadata": {
      "needs_background": "light"
     },
     "output_type": "display_data"
    }
   ],
   "source": [
    "image = np.ones([80,80])\n",
    "# Resize Image\n",
    "diag = len(np.diag(image)//2)\n",
    "image = np.pad(image, pad_width=diag+8)\n",
    "\n",
    "_ = np.linspace(-1, 1, image.shape[0])\n",
    "xv, yv = np.meshgrid(_,_)\n",
    "\n",
    "image[xv**2 + yv**2 >0.1] = 255\n",
    "image[xv**2 + yv**2 <0.09] = 110\n",
    "image[25:231,30:40] = 140\n",
    "image[25:231, 216:226] = 140\n",
    "image[25:35, 40:216] = 140\n",
    "image[221:231, 40:216] = 140\n",
    "\n",
    "image[180:210,50:80] = 150\n",
    "image[(xv-0.5)**2/0.2+(yv+0.3)**2<0.05] = 130\n",
    "image[(xv-0.006)**2/0.4+(yv+0.18)**2/0.7<0.01] = 144\n",
    "image[(xv+0.17)**2/0.4+(yv+0.1)**2/0.7<0.01] = 144\n",
    "image[(xv-0.17)**2/0.4+(yv+0.1)**2/0.7<0.01] = 144\n",
    "image[(xv-0.01)**2/0.7+(yv-0.1)**2/0.7<0.02] = 144\n",
    "# image[(xv-0.2)**2 - (yv-0.1)**2 <0.02] =24\n",
    "\n",
    "\n",
    "plt.imshow(image, cmap = 'Greys')\n"
   ]
  },
  {
   "cell_type": "code",
   "execution_count": 20,
   "metadata": {},
   "outputs": [
    {
     "data": {
      "text/plain": [
       "<matplotlib.image.AxesImage at 0x1e2c18e0130>"
      ]
     },
     "execution_count": 20,
     "metadata": {},
     "output_type": "execute_result"
    },
    {
     "data": {
      "image/png": "[encoded data removed]",
      "text/plain": [
       "<Figure size 432x288 with 1 Axes>"
      ]
     },
     "metadata": {
      "needs_background": "light"
     },
     "output_type": "display_data"
    }
   ],
   "source": [
    "image, xv, yv = create_image(80,80)\n",
    "\n",
    "\n",
    "image[xv**2 + yv**2 >0.7] = 255\n",
    "image[xv**2 + yv**2 <0.69] = 200\n",
    "image[xv**2 + yv**2 <0.6] = 98\n",
    "# image[xv**2 + yv**2 <0.5] = 190\n",
    "image[xv**2 + yv**2 <0.4] = 125\n",
    "\n",
    "image[(xv+0.2)**2+(yv+0.2)**2/0.1<0.01] = 200\n",
    "image[(xv-0.2)**2+(yv+0.2)**2/0.1<0.01] = 200\n",
    "image[(xv-0.01)**2/0.1+(yv-0.01)**2<0.01] = 60\n",
    "\n",
    "image[170:175,100:160] = 170\n",
    "\n",
    "plt.imshow(image, cmap = 'Greys')"
   ]
  },
  {
   "cell_type": "code",
   "execution_count": 21,
   "metadata": {},
   "outputs": [
    {
     "data": {
      "text/plain": [
       "<matplotlib.image.AxesImage at 0x1e2c19500a0>"
      ]
     },
     "execution_count": 21,
     "metadata": {},
     "output_type": "execute_result"
    },
    {
     "data": {
      "image/png": "[encoded data removed]",
      "text/plain": [
       "<Figure size 432x288 with 1 Axes>"
      ]
     },
     "metadata": {
      "needs_background": "light"
     },
     "output_type": "display_data"
    }
   ],
   "source": [
    "image, xv, yv = create_image(80,80)\n",
    "\n",
    "image[(xv-0.05)**2+(yv+0.01)**2/0.6>0.05] = 255\n",
    "image[(xv+0.6)**2+(yv+0.6)**2/0.5<0.05] = 110\n",
    "image[(xv+0.25)**2+(yv+0.6)**2/0.35<0.05] = 200\n",
    "image[(xv+0.5)**2/0.2+(yv+0.3)**2<0.05] = 155\n",
    "image[(xv+0.55)**2/0.5+(yv-0.1)**2<0.05] = 180\n",
    "image[(xv+0.3)**2+(yv-0.1)**2/0.5<0.05] = 110\n",
    "image[(xv+0.2)**2/0.2+(yv-0.4)**2<0.05] = 180\n",
    "image[(xv+0.4)**2+(yv-0.65)**2/0.3<0.05] = 110\n",
    "image[(xv-0.5)**2+(yv-0.5)**2/0.7<0.05] = 110\n",
    "image[(xv-0.5)**2/0.6+(yv-0.2)**2<0.05] = 180\n",
    "image[(xv-0.4)**2/0.4+(yv+0.2)**2<0.07] = 180\n",
    "\n",
    "\n",
    "plt.imshow(image, cmap = 'Greys')\n"
   ]
  },
  {
   "cell_type": "code",
   "execution_count": 100,
   "metadata": {},
   "outputs": [],
   "source": [
    "def create_alien(x, y, n, overlap):\n",
    "    aliens = []\n",
    "    np.random.seed(0)\n",
    "\n",
    "    for i in range(n):\n",
    "        \n",
    "        image, xv, yv = create_image(x,y)\n",
    "        mu, sigma = 0 , 0.1\n",
    "        noise =  np.abs(np.random.normal(mu, sigma, 2))\n",
    "        image[(xv-0.01)**2/0.5+(yv+0.01)**2>0.5] = 0\n",
    "        image[(xv-0.01)**2/0.5+(yv+0.01)**2<0.48] = 100\n",
    "\n",
    "        if overlap == True:\n",
    "            image[(xv+0.3-noise[0])**2/0.2+(yv+0.01-noise[0])**2<0.05] = 80\n",
    "            image[(xv+0.3-noise[1])**2/0.2+(yv+0.1-noise[1])**2<0.01] = 40\n",
    "            image[(xv-0.3+noise[0])**2/0.2+(yv+0.01+noise[0])**2<0.05] = 80\n",
    "            image[(xv-0.3+noise[1])**2/0.2+(yv+0.1+noise[1])**2<0.01] = 40\n",
    "            image[(xv+0.08-noise[0])**2+(yv-0.5-noise[0])**2/0.025<0.01] = 160\n",
    "            image[(xv-0.08-noise[1])**2+(yv-0.5-noise[1])**2/0.025<0.01] = 160\n",
    "            \n",
    "        else: \n",
    "            image[(xv+0.3-noise[0])**2/0.2+(yv+0.01-noise[0])**2<0.05] = 80\n",
    "            image[(xv+0.3-noise[0])**2/0.2+(yv+0.1-noise[0])**2<0.01] = 40\n",
    "            image[(xv-0.3+noise[0])**2/0.2+(yv+0.01-noise[0])**2<0.05] = 80\n",
    "            image[(xv-0.3+noise[0])**2/0.2+(yv+0.1-noise[0])**2<0.01] = 40\n",
    "            image[(xv-0.01-noise[0])**2+(yv-0.6+noise[0])**2/0.025<0.02] = 40\n",
    "           \n",
    "            \n",
    "        aliens.append(image)\n",
    "        \n",
    "    return aliens\n",
    "\n",
    "\n",
    "\n"
   ]
  },
  {
   "cell_type": "code",
   "execution_count": 101,
   "metadata": {},
   "outputs": [],
   "source": [
    "aliens = create_alien(164,164,10, overlap = False)\n",
    "for i in range(10):\n",
    "    img = Image.fromarray(aliens[i].astype(np.uint8))\n",
    "    img.save(f\"aliens{i}.png\")"
   ]
  },
  {
   "cell_type": "code",
   "execution_count": 23,
   "metadata": {},
   "outputs": [
    {
     "data": {
      "text/plain": [
       "(-0.5, 511.5, 511.5, -0.5)"
      ]
     },
     "execution_count": 23,
     "metadata": {},
     "output_type": "execute_result"
    },
    {
     "data": {
      "image/png": "[encoded data removed]",
      "text/plain": [
       "<Figure size 1296x360 with 10 Axes>"
      ]
     },
     "metadata": {
      "needs_background": "light"
     },
     "output_type": "display_data"
    }
   ],
   "source": [
    "\n",
    "\n",
    "fig, ax = plt.subplots(2,5,figsize=(18,5))\n",
    "ax[0][0].imshow(aliens[0], cmap='Greys')\n",
    "ax[0][0].axis('off')\n",
    "ax[0][1].imshow(aliens[1], cmap='Greys')\n",
    "ax[0][1].axis('off')\n",
    "ax[0][2].imshow(aliens[2], cmap='Greys')\n",
    "ax[0][2].axis('off')\n",
    "ax[0][3].imshow(aliens[3], cmap='Greys')\n",
    "ax[0][3].axis('off')\n",
    "ax[0][4].imshow(aliens[4], cmap='Greys')\n",
    "ax[0][4].axis('off')\n",
    "ax[1][0].imshow(aliens[5], cmap='Greys')\n",
    "ax[1][0].axis('off')\n",
    "ax[1][1].imshow(aliens[6], cmap='Greys')\n",
    "ax[1][1].axis('off')\n",
    "ax[1][2].imshow(aliens[7], cmap='Greys')\n",
    "ax[1][2].axis('off')\n",
    "ax[1][3].imshow(aliens[8], cmap='Greys')\n",
    "ax[1][3].axis('off')\n",
    "ax[1][4].imshow(aliens[9], cmap='Greys')\n",
    "ax[1][4].axis('off')\n"
   ]
  },
  {
   "cell_type": "code",
   "execution_count": null,
   "metadata": {},
   "outputs": [],
   "source": []
  },
  {
   "cell_type": "code",
   "execution_count": null,
   "metadata": {},
   "outputs": [],
   "source": []
  }
 ],
 "metadata": {
  "interpreter": {
   "hash": "b134e35f1c6e29159023eba8bbf308b62c168a50f851ee85430275284d62dbae"
  },
  "kernelspec": {
   "display_name": "Python 3.8.11 ('Machine_Learning')",
   "language": "python",
   "name": "python3"
  },
  "language_info": {
   "codemirror_mode": {
    "name": "ipython",
    "version": 3
   },
   "file_extension": ".py",
   "mimetype": "text/x-python",
   "name": "python",
   "nbconvert_exporter": "python",
   "pygments_lexer": "ipython3",
   "version": "3.8.11"
  },
  "orig_nbformat": 4
 },
 "nbformat": 4,
 "nbformat_minor": 2
}
