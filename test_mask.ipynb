{
 "cells": [
  {
   "cell_type": "code",
   "execution_count": 3,
   "metadata": {},
   "outputs": [
    {
     "name": "stdout",
     "output_type": "stream",
     "text": [
      "DART abs mean pixel error: 55.963478\n",
      "Run time: 19.42\n",
      "SART abs mean pixel error: 55.963005\n"
     ]
    },
    {
     "data": {
      "image/png": "[encoded data removed]",
      "text/plain": [
       "<PIL.Image.Image image mode=L size=512x512 at 0x7FCAC89AF850>"
      ]
     },
     "execution_count": 3,
     "metadata": {},
     "output_type": "execute_result"
    }
   ],
   "source": [
    "from src.algs import *\n",
    "import time\n",
    "import numpy as np\n",
    "import matplotlib.pyplot as plt\n",
    "from PIL import Image\n",
    "from src.projections import *\n",
    "from src.phantom_creator import *\n",
    "\n",
    "# Main parameters\n",
    "n_projections = 16\n",
    "n_detectors = 512\n",
    "det_spacing = 1\n",
    "noise_factor = 1.1\n",
    "dart_iters = 10\n",
    "p = 0.85\n",
    "rec_alg = 'SART_CUDA'\n",
    "rec_iters = 1000\n",
    "\n",
    "# open phantom\n",
    "img = np.array(Image.open(\"phantoms/paws/paw_0.png\"), dtype=np.uint8)\n",
    "img_width, img_height = img.shape\n",
    "gray_lvls = np.unique(img).astype(np.float16)\n",
    "img_width, img_height = img.shape\n",
    "\n",
    "# prepare all the data\n",
    "img = np.array(Image.fromarray(img), dtype=np.uint8)\n",
    "img_width, img_height = img.shape\n",
    "\n",
    "vol_geom = astra.creators.create_vol_geom([img_width,img_height])\n",
    "phantom_id = astra.data2d.create('-vol', vol_geom, data=img)\n",
    "# make measurements\n",
    "angles = np.linspace(0, np.pi, n_projections)\n",
    "projector_id, sino_id, sinogram = project_from_2D(phantom_id=phantom_id,\n",
    "                                                    vol_geom=vol_geom,\n",
    "                                                    n_projections=n_projections,\n",
    "                                                    n_detectors=n_detectors,\n",
    "                                                    detector_spacing=det_spacing,\n",
    "                                                    angles=angles,\n",
    "                                                    noise_factor=noise_factor,\n",
    "                                                    use_gpu=True)\n",
    "\n",
    "proj_geom = astra.create_proj_geom('parallel', det_spacing, \n",
    "                                        n_detectors, angles)\n",
    "# instanciate DART\n",
    "d = DART(gray_levels=gray_lvls, p=p, rec_shape=img.shape,\n",
    "    proj_geom=proj_geom, projector_id=projector_id,\n",
    "    sinogram=sinogram)\n",
    "# run the algorithm\n",
    "start_ = time.time()\n",
    "dart_res = d.run(iters=dart_iters,rec_alg=rec_alg,rec_iter=rec_iters)\n",
    "end_ = time.time()\n",
    "\n",
    "# run SART for comparison\n",
    "_, sart_res = SART(vol_geom, 0, projector_id, \n",
    "                sino_id, 10000, True)\n",
    "\n",
    "# print results\n",
    "print(\"DART abs mean pixel error:\",np.abs(img - dart_res).mean())\n",
    "print(\"Run time:\", np.round(end_ - start_,2))\n",
    "print(\"SART abs mean pixel error:\", np.abs(img - sart_res).mean())\n",
    "\n",
    "Image.fromarray(dart_res.astype(np.uint8))"
   ]
  },
  {
   "cell_type": "code",
   "execution_count": null,
   "metadata": {},
   "outputs": [],
   "source": []
  },
  {
   "cell_type": "code",
   "execution_count": 8,
   "metadata": {},
   "outputs": [
    {
     "data": {
      "text/plain": [
       "array([0], dtype=uint8)"
      ]
     },
     "execution_count": 8,
     "metadata": {},
     "output_type": "execute_result"
    }
   ],
   "source": [
    "np.unique(dart_res)"
   ]
  },
  {
   "cell_type": "code",
   "execution_count": 7,
   "metadata": {},
   "outputs": [
    {
     "data": {
      "text/plain": [
       "765000.0"
      ]
     },
     "execution_count": 7,
     "metadata": {},
     "output_type": "execute_result"
    }
   ],
   "source": [
    "st = 30000\n",
    "i = sum([st-(st*c/50) for c in range(50)])\n",
    "i"
   ]
  },
  {
   "cell_type": "code",
   "execution_count": null,
   "metadata": {},
   "outputs": [],
   "source": []
  }
 ],
 "metadata": {
  "interpreter": {
   "hash": "43934174415e06c815b51e25523b3b6837fb01cc9d23977351fa4d63412ea153"
  },
  "kernelspec": {
   "display_name": "Python 3.9.12 ('image_processing')",
   "language": "python",
   "name": "python3"
  },
  "language_info": {
   "codemirror_mode": {
    "name": "ipython",
    "version": 3
   },
   "file_extension": ".py",
   "mimetype": "text/x-python",
   "name": "python",
   "nbconvert_exporter": "python",
   "pygments_lexer": "ipython3",
   "version": "3.9.12"
  },
  "orig_nbformat": 4
 },
 "nbformat": 4,
 "nbformat_minor": 2
}
